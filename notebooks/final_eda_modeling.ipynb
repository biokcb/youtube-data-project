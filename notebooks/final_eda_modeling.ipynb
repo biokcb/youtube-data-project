{
 "cells": [
  {
   "cell_type": "markdown",
   "metadata": {},
   "source": [
    "# Labeled YouTube Comment Data Analysis\n",
    "\n",
    "This notebook performs filtering, cleaning, and exploration of recently hand-labeled data. Checking simple NLP models and looking at results of the DeepMoji model"
   ]
  },
  {
   "cell_type": "code",
   "execution_count": 39,
   "metadata": {},
   "outputs": [],
   "source": [
    "import pandas as pd\n",
    "import numpy as np\n",
    "import matplotlib.pyplot as plt\n",
    "import warnings\n",
    "warnings.filterwarnings(action='once')"
   ]
  },
  {
   "cell_type": "code",
   "execution_count": 176,
   "metadata": {},
   "outputs": [
    {
     "name": "stdout",
     "output_type": "stream",
     "text": [
      "13500\n",
      "20\n"
     ]
    },
    {
     "data": {
      "text/html": [
       "<div>\n",
       "<style scoped>\n",
       "    .dataframe tbody tr th:only-of-type {\n",
       "        vertical-align: middle;\n",
       "    }\n",
       "\n",
       "    .dataframe tbody tr th {\n",
       "        vertical-align: top;\n",
       "    }\n",
       "\n",
       "    .dataframe thead th {\n",
       "        text-align: right;\n",
       "    }\n",
       "</style>\n",
       "<table border=\"1\" class=\"dataframe\">\n",
       "  <thead>\n",
       "    <tr style=\"text-align: right;\">\n",
       "      <th></th>\n",
       "      <th>cid</th>\n",
       "      <th>text</th>\n",
       "      <th>time</th>\n",
       "      <th>author</th>\n",
       "      <th>clikes</th>\n",
       "      <th>cdislikes</th>\n",
       "      <th>video_id</th>\n",
       "      <th>desc</th>\n",
       "      <th>category</th>\n",
       "    </tr>\n",
       "  </thead>\n",
       "  <tbody>\n",
       "    <tr>\n",
       "      <th>0</th>\n",
       "      <td>UgxJIXwZLEuc6E4yspJ4AaABAg</td>\n",
       "      <td>i think your name for your youtube accont make...</td>\n",
       "      <td>1 year ago</td>\n",
       "      <td>Tootie Kamins</td>\n",
       "      <td>29</td>\n",
       "      <td>0</td>\n",
       "      <td>-F_JZdohnio</td>\n",
       "      <td>['content']</td>\n",
       "      <td>['delicious']</td>\n",
       "    </tr>\n",
       "    <tr>\n",
       "      <th>1</th>\n",
       "      <td>Ugye0Hi357G1JLG7ao94AaABAg</td>\n",
       "      <td>nice and sweet</td>\n",
       "      <td>1 year ago</td>\n",
       "      <td>Ravi kumar</td>\n",
       "      <td>1</td>\n",
       "      <td>0</td>\n",
       "      <td>-F_JZdohnio</td>\n",
       "      <td>['other']</td>\n",
       "      <td>['other']</td>\n",
       "    </tr>\n",
       "    <tr>\n",
       "      <th>2</th>\n",
       "      <td>Ugwki4vPuKOqPnqfuHV4AaABAg.8gZ62W6ErAd8i55Oi90kSS</td>\n",
       "      <td>Marem MaRem مانو طيب هاد🍮هاد ازكا🥨</td>\n",
       "      <td>11 months ago</td>\n",
       "      <td>shahd taha</td>\n",
       "      <td>3</td>\n",
       "      <td>0</td>\n",
       "      <td>-F_JZdohnio</td>\n",
       "      <td>['other']</td>\n",
       "      <td>['other']</td>\n",
       "    </tr>\n",
       "    <tr>\n",
       "      <th>3</th>\n",
       "      <td>Ugznvkcu-l3C8vVY51d4AaABAg</td>\n",
       "      <td>Yummy</td>\n",
       "      <td>1 year ago</td>\n",
       "      <td>Gacha Angelica love</td>\n",
       "      <td>1</td>\n",
       "      <td>0</td>\n",
       "      <td>-F_JZdohnio</td>\n",
       "      <td>['content']</td>\n",
       "      <td>['delicious']</td>\n",
       "    </tr>\n",
       "    <tr>\n",
       "      <th>4</th>\n",
       "      <td>UgyjRGABUJs62pXCZP54AaABAg</td>\n",
       "      <td>El corazón</td>\n",
       "      <td>11 months ago</td>\n",
       "      <td>valeria torres Castillo</td>\n",
       "      <td>1</td>\n",
       "      <td>0</td>\n",
       "      <td>-F_JZdohnio</td>\n",
       "      <td>['other']</td>\n",
       "      <td>['other']</td>\n",
       "    </tr>\n",
       "  </tbody>\n",
       "</table>\n",
       "</div>"
      ],
      "text/plain": [
       "                                                 cid  \\\n",
       "0                         UgxJIXwZLEuc6E4yspJ4AaABAg   \n",
       "1                         Ugye0Hi357G1JLG7ao94AaABAg   \n",
       "2  Ugwki4vPuKOqPnqfuHV4AaABAg.8gZ62W6ErAd8i55Oi90kSS   \n",
       "3                         Ugznvkcu-l3C8vVY51d4AaABAg   \n",
       "4                         UgyjRGABUJs62pXCZP54AaABAg   \n",
       "\n",
       "                                                text           time  \\\n",
       "0  i think your name for your youtube accont make...     1 year ago   \n",
       "1                                     nice and sweet     1 year ago   \n",
       "2                 Marem MaRem مانو طيب هاد🍮هاد ازكا🥨  11 months ago   \n",
       "3                                              Yummy     1 year ago   \n",
       "4                                         El corazón  11 months ago   \n",
       "\n",
       "                    author clikes cdislikes     video_id         desc  \\\n",
       "0            Tootie Kamins     29         0  -F_JZdohnio  ['content']   \n",
       "1               Ravi kumar      1         0  -F_JZdohnio    ['other']   \n",
       "2               shahd taha      3         0  -F_JZdohnio    ['other']   \n",
       "3      Gacha Angelica love      1         0  -F_JZdohnio  ['content']   \n",
       "4  valeria torres Castillo      1         0  -F_JZdohnio    ['other']   \n",
       "\n",
       "        category  \n",
       "0  ['delicious']  \n",
       "1      ['other']  \n",
       "2      ['other']  \n",
       "3  ['delicious']  \n",
       "4      ['other']  "
      ]
     },
     "execution_count": 176,
     "metadata": {},
     "output_type": "execute_result"
    }
   ],
   "source": [
    "# Read in the processed data\n",
    "directory = '~/Documents/GitHub/youtube-data/label-app/data/'\n",
    "# Kristen's labels\n",
    "processed_set1 = [33,118,124,125,119,32,26,18,30,24,126,25,31,102,2094,918,1713,468,\n",
    "                 2398,665,492]\n",
    "# Nathan's labels\n",
    "processed_set2 = [0,1,10,104,124,34,64]\n",
    "print(500*(len(processed_set1) + len(processed_set2)))\n",
    "i=0\n",
    "for coms in processed_set1:\n",
    "    if i == 0:\n",
    "        comments = pd.read_csv(directory+\"comments_set_\" + str(coms) + \".csv\", index_col=0)\n",
    "    else:\n",
    "        temp_df = pd.read_csv(directory+\"comments_set_\" + str(coms) + \".csv\", index_col=0)\n",
    "        comments = comments.append(temp_df)\n",
    "    i+=1\n",
    "\n",
    "for coms in processed_set2:\n",
    "    temp_df = pd.read_csv(directory+\"comments_set_next_\" + str(coms) + \".csv\", index_col=0)\n",
    "    comments = comments.append(temp_df)\n",
    "print(len(processed_set1))\n",
    "comments.head()"
   ]
  },
  {
   "cell_type": "code",
   "execution_count": 177,
   "metadata": {},
   "outputs": [
    {
     "data": {
      "text/plain": [
       "(13527, 9)"
      ]
     },
     "execution_count": 177,
     "metadata": {},
     "output_type": "execute_result"
    }
   ],
   "source": [
    "comments.shape"
   ]
  },
  {
   "cell_type": "code",
   "execution_count": 178,
   "metadata": {},
   "outputs": [
    {
     "data": {
      "text/html": [
       "<div>\n",
       "<style scoped>\n",
       "    .dataframe tbody tr th:only-of-type {\n",
       "        vertical-align: middle;\n",
       "    }\n",
       "\n",
       "    .dataframe tbody tr th {\n",
       "        vertical-align: top;\n",
       "    }\n",
       "\n",
       "    .dataframe thead th {\n",
       "        text-align: right;\n",
       "    }\n",
       "</style>\n",
       "<table border=\"1\" class=\"dataframe\">\n",
       "  <thead>\n",
       "    <tr style=\"text-align: right;\">\n",
       "      <th></th>\n",
       "      <th>cid</th>\n",
       "      <th>text</th>\n",
       "      <th>time</th>\n",
       "      <th>author</th>\n",
       "      <th>clikes</th>\n",
       "      <th>cdislikes</th>\n",
       "      <th>video_id</th>\n",
       "      <th>desc</th>\n",
       "      <th>category</th>\n",
       "    </tr>\n",
       "  </thead>\n",
       "  <tbody>\n",
       "    <tr>\n",
       "      <th>0</th>\n",
       "      <td>UgxJIXwZLEuc6E4yspJ4AaABAg</td>\n",
       "      <td>i think your name for your youtube accont make...</td>\n",
       "      <td>1 year ago</td>\n",
       "      <td>Tootie Kamins</td>\n",
       "      <td>29</td>\n",
       "      <td>0</td>\n",
       "      <td>-F_JZdohnio</td>\n",
       "      <td>['content']</td>\n",
       "      <td>['delicious']</td>\n",
       "    </tr>\n",
       "    <tr>\n",
       "      <th>3</th>\n",
       "      <td>Ugznvkcu-l3C8vVY51d4AaABAg</td>\n",
       "      <td>Yummy</td>\n",
       "      <td>1 year ago</td>\n",
       "      <td>Gacha Angelica love</td>\n",
       "      <td>1</td>\n",
       "      <td>0</td>\n",
       "      <td>-F_JZdohnio</td>\n",
       "      <td>['content']</td>\n",
       "      <td>['delicious']</td>\n",
       "    </tr>\n",
       "    <tr>\n",
       "      <th>9</th>\n",
       "      <td>UgzxfCB4RvW-PS1pTMh4AaABAg</td>\n",
       "      <td>Very niceeeeee 😍😘😍😘</td>\n",
       "      <td>11 months ago</td>\n",
       "      <td>ARWIN S. B. KING</td>\n",
       "      <td>4</td>\n",
       "      <td>0</td>\n",
       "      <td>-F_JZdohnio</td>\n",
       "      <td>['content', 'mood']</td>\n",
       "      <td>['entertaining', 'happy']</td>\n",
       "    </tr>\n",
       "    <tr>\n",
       "      <th>12</th>\n",
       "      <td>UgyISMF0Sbi_Fljoi7B4AaABAg</td>\n",
       "      <td>Cool 😄</td>\n",
       "      <td>1 year ago</td>\n",
       "      <td>Azn Boi</td>\n",
       "      <td>1</td>\n",
       "      <td>0</td>\n",
       "      <td>-F_JZdohnio</td>\n",
       "      <td>['content', 'mood']</td>\n",
       "      <td>['entertaining', 'excitement', 'happy']</td>\n",
       "    </tr>\n",
       "    <tr>\n",
       "      <th>13</th>\n",
       "      <td>UgyDtnH9vBdGPbTVShh4AaABAg</td>\n",
       "      <td>Yum😜</td>\n",
       "      <td>1 year ago</td>\n",
       "      <td>Ramandeep Kaur</td>\n",
       "      <td>1</td>\n",
       "      <td>0</td>\n",
       "      <td>-F_JZdohnio</td>\n",
       "      <td>['content']</td>\n",
       "      <td>['delicious']</td>\n",
       "    </tr>\n",
       "  </tbody>\n",
       "</table>\n",
       "</div>"
      ],
      "text/plain": [
       "                           cid  \\\n",
       "0   UgxJIXwZLEuc6E4yspJ4AaABAg   \n",
       "3   Ugznvkcu-l3C8vVY51d4AaABAg   \n",
       "9   UgzxfCB4RvW-PS1pTMh4AaABAg   \n",
       "12  UgyISMF0Sbi_Fljoi7B4AaABAg   \n",
       "13  UgyDtnH9vBdGPbTVShh4AaABAg   \n",
       "\n",
       "                                                 text           time  \\\n",
       "0   i think your name for your youtube accont make...     1 year ago   \n",
       "3                                               Yummy     1 year ago   \n",
       "9                                 Very niceeeeee 😍😘😍😘  11 months ago   \n",
       "12                                             Cool 😄     1 year ago   \n",
       "13                                               Yum😜     1 year ago   \n",
       "\n",
       "                 author clikes cdislikes     video_id                 desc  \\\n",
       "0         Tootie Kamins     29         0  -F_JZdohnio          ['content']   \n",
       "3   Gacha Angelica love      1         0  -F_JZdohnio          ['content']   \n",
       "9      ARWIN S. B. KING      4         0  -F_JZdohnio  ['content', 'mood']   \n",
       "12              Azn Boi      1         0  -F_JZdohnio  ['content', 'mood']   \n",
       "13       Ramandeep Kaur      1         0  -F_JZdohnio          ['content']   \n",
       "\n",
       "                                   category  \n",
       "0                             ['delicious']  \n",
       "3                             ['delicious']  \n",
       "9                 ['entertaining', 'happy']  \n",
       "12  ['entertaining', 'excitement', 'happy']  \n",
       "13                            ['delicious']  "
      ]
     },
     "execution_count": 178,
     "metadata": {},
     "output_type": "execute_result"
    }
   ],
   "source": [
    "# Clean the data: Remove all useless comments\n",
    "comments.dropna(inplace=True)\n",
    "useless = comments[comments['desc'] == \"['other']\"]\n",
    "comments = comments[comments['desc'] != \"['other']\"]\n",
    "comments = comments[comments['desc'] != '-']\n",
    "comments.head()"
   ]
  },
  {
   "cell_type": "code",
   "execution_count": 179,
   "metadata": {},
   "outputs": [
    {
     "data": {
      "text/plain": [
       "(4553, 9)"
      ]
     },
     "execution_count": 179,
     "metadata": {},
     "output_type": "execute_result"
    }
   ],
   "source": [
    "# How many potentially useful comments left?\n",
    "comments.shape"
   ]
  },
  {
   "cell_type": "code",
   "execution_count": 180,
   "metadata": {},
   "outputs": [
    {
     "name": "stderr",
     "output_type": "stream",
     "text": [
      "/Users/kristenbrown/miniconda3/envs/insight/lib/python3.6/site-packages/ipykernel_launcher.py:8: SettingWithCopyWarning: \n",
      "A value is trying to be set on a copy of a slice from a DataFrame.\n",
      "Try using .loc[row_indexer,col_indexer] = value instead\n",
      "\n",
      "See the caveats in the documentation: http://pandas.pydata.org/pandas-docs/stable/indexing.html#indexing-view-versus-copy\n",
      "  \n"
     ]
    }
   ],
   "source": [
    "from ast import literal_eval\n",
    "\n",
    "# Separate into content, mood data\n",
    "content_coms = comments[(comments['desc'] == \"['content']\") | (comments['desc'] == \"['content', 'other']\") | (comments['desc'] == \"['other', 'content']\")]\n",
    "mood_coms = comments[(comments['desc'] == \"['mood']\") | (comments['desc'] == \"['mood', 'other']\") | (comments['desc'] == \"['mood', 'content']\")]\n",
    "mixed_coms = comments[(comments['desc'] == \"['content', 'mood']\") | (comments['desc'] == \"['mood', 'content']\")]\n",
    "\n",
    "content_coms['desc'] = 'content'\n",
    "mood_coms['desc'] = 'mood'\n",
    "mixed_coms['desc'] = 'mixed'\n",
    "\n",
    "content_coms['category'] = content_coms['category'].apply(literal_eval)\n",
    "mood_coms['category'] = mood_coms['category'].apply(literal_eval)\n",
    "mixed_coms['category'] = mixed_coms['category'].apply(literal_eval)"
   ]
  },
  {
   "cell_type": "code",
   "execution_count": 181,
   "metadata": {},
   "outputs": [
    {
     "data": {
      "text/plain": [
       "<BarContainer object of 3 artists>"
      ]
     },
     "execution_count": 181,
     "metadata": {},
     "output_type": "execute_result"
    },
    {
     "data": {
      "image/png": "[encoded data removed]",
      "text/plain": [
       "<Figure size 432x288 with 1 Axes>"
      ]
     },
     "metadata": {
      "needs_background": "light"
     },
     "output_type": "display_data"
    }
   ],
   "source": [
    "# Plot class abundances\n",
    "import matplotlib.pyplot as plt\n",
    "\n",
    "plt.bar(['content', 'mood', 'mixed'],[len(content_coms), len(mood_coms), len(mixed_coms)])"
   ]
  },
  {
   "cell_type": "code",
   "execution_count": 235,
   "metadata": {},
   "outputs": [
    {
     "data": {
      "text/html": [
       "<div>\n",
       "<style scoped>\n",
       "    .dataframe tbody tr th:only-of-type {\n",
       "        vertical-align: middle;\n",
       "    }\n",
       "\n",
       "    .dataframe tbody tr th {\n",
       "        vertical-align: top;\n",
       "    }\n",
       "\n",
       "    .dataframe thead th {\n",
       "        text-align: right;\n",
       "    }\n",
       "</style>\n",
       "<table border=\"1\" class=\"dataframe\">\n",
       "  <thead>\n",
       "    <tr style=\"text-align: right;\">\n",
       "      <th></th>\n",
       "      <th>cid</th>\n",
       "      <th>text</th>\n",
       "      <th>time</th>\n",
       "      <th>author</th>\n",
       "      <th>clikes</th>\n",
       "      <th>cdislikes</th>\n",
       "      <th>video_id</th>\n",
       "      <th>desc</th>\n",
       "      <th>category</th>\n",
       "    </tr>\n",
       "  </thead>\n",
       "  <tbody>\n",
       "    <tr>\n",
       "      <th>0</th>\n",
       "      <td>UgxJIXwZLEuc6E4yspJ4AaABAg</td>\n",
       "      <td>i think your name for your youtube accont make...</td>\n",
       "      <td>1 year ago</td>\n",
       "      <td>Tootie Kamins</td>\n",
       "      <td>29</td>\n",
       "      <td>0</td>\n",
       "      <td>-F_JZdohnio</td>\n",
       "      <td>content</td>\n",
       "      <td>delicious</td>\n",
       "    </tr>\n",
       "    <tr>\n",
       "      <th>1</th>\n",
       "      <td>Ugznvkcu-l3C8vVY51d4AaABAg</td>\n",
       "      <td>Yummy</td>\n",
       "      <td>1 year ago</td>\n",
       "      <td>Gacha Angelica love</td>\n",
       "      <td>1</td>\n",
       "      <td>0</td>\n",
       "      <td>-F_JZdohnio</td>\n",
       "      <td>content</td>\n",
       "      <td>delicious</td>\n",
       "    </tr>\n",
       "    <tr>\n",
       "      <th>2</th>\n",
       "      <td>UgyDtnH9vBdGPbTVShh4AaABAg</td>\n",
       "      <td>Yum😜</td>\n",
       "      <td>1 year ago</td>\n",
       "      <td>Ramandeep Kaur</td>\n",
       "      <td>1</td>\n",
       "      <td>0</td>\n",
       "      <td>-F_JZdohnio</td>\n",
       "      <td>content</td>\n",
       "      <td>delicious</td>\n",
       "    </tr>\n",
       "    <tr>\n",
       "      <th>3</th>\n",
       "      <td>Ugz0bOSlg_LfjXOEEpR4AaABAg</td>\n",
       "      <td>That all looks so delicious</td>\n",
       "      <td>1 year ago</td>\n",
       "      <td>andrea gilliane delos santos</td>\n",
       "      <td>1</td>\n",
       "      <td>0</td>\n",
       "      <td>-F_JZdohnio</td>\n",
       "      <td>content</td>\n",
       "      <td>delicious</td>\n",
       "    </tr>\n",
       "    <tr>\n",
       "      <th>4</th>\n",
       "      <td>UgwWUJjwfSMTuZxgm354AaABAg</td>\n",
       "      <td>I dont think I can eat any of these</td>\n",
       "      <td>1 year ago</td>\n",
       "      <td>Alexander Bolton</td>\n",
       "      <td>1</td>\n",
       "      <td>0</td>\n",
       "      <td>-F_JZdohnio</td>\n",
       "      <td>content</td>\n",
       "      <td>disgust</td>\n",
       "    </tr>\n",
       "  </tbody>\n",
       "</table>\n",
       "</div>"
      ],
      "text/plain": [
       "                          cid  \\\n",
       "0  UgxJIXwZLEuc6E4yspJ4AaABAg   \n",
       "1  Ugznvkcu-l3C8vVY51d4AaABAg   \n",
       "2  UgyDtnH9vBdGPbTVShh4AaABAg   \n",
       "3  Ugz0bOSlg_LfjXOEEpR4AaABAg   \n",
       "4  UgwWUJjwfSMTuZxgm354AaABAg   \n",
       "\n",
       "                                                text        time  \\\n",
       "0  i think your name for your youtube accont make...  1 year ago   \n",
       "1                                              Yummy  1 year ago   \n",
       "2                                               Yum😜  1 year ago   \n",
       "3                        That all looks so delicious  1 year ago   \n",
       "4                I dont think I can eat any of these  1 year ago   \n",
       "\n",
       "                         author clikes cdislikes     video_id     desc  \\\n",
       "0                 Tootie Kamins     29         0  -F_JZdohnio  content   \n",
       "1           Gacha Angelica love      1         0  -F_JZdohnio  content   \n",
       "2                Ramandeep Kaur      1         0  -F_JZdohnio  content   \n",
       "3  andrea gilliane delos santos      1         0  -F_JZdohnio  content   \n",
       "4              Alexander Bolton      1         0  -F_JZdohnio  content   \n",
       "\n",
       "    category  \n",
       "0  delicious  \n",
       "1  delicious  \n",
       "2  delicious  \n",
       "3  delicious  \n",
       "4    disgust  "
      ]
     },
     "execution_count": 235,
     "metadata": {},
     "output_type": "execute_result"
    }
   ],
   "source": [
    "# Separate into subcategories\n",
    "contents = ['informative', 'incorrect', 'delicious', 'entertaining', 'disgust',\n",
    "            'weird', 'stupid', 'funny', 'question']\n",
    "\n",
    "\n",
    "content_coms2 = pd.DataFrame({\n",
    "      col:np.repeat(content_coms[col].values, content_coms['category'].str.len())\n",
    "      for col in content_coms.columns.drop('category')}\n",
    "    ).assign(**{'category':np.concatenate(content_coms['category'].values)})[content_coms.columns]\n",
    "content_coms2 = content_coms2[content_coms2['category'].isin(contents)]\n",
    "content_coms2.head()"
   ]
  },
  {
   "cell_type": "code",
   "execution_count": 183,
   "metadata": {},
   "outputs": [
    {
     "data": {
      "text/plain": [
       "<matplotlib.axes._subplots.AxesSubplot at 0x11d4a5470>"
      ]
     },
     "execution_count": 183,
     "metadata": {},
     "output_type": "execute_result"
    },
    {
     "data": {
      "image/png": "[encoded data removed]",
      "text/plain": [
       "<Figure size 432x288 with 1 Axes>"
      ]
     },
     "metadata": {
      "needs_background": "light"
     },
     "output_type": "display_data"
    }
   ],
   "source": [
    "content_coms2['category'].value_counts().plot(kind='bar')"
   ]
  },
  {
   "cell_type": "code",
   "execution_count": null,
   "metadata": {},
   "outputs": [],
   "source": [
    "content_coms2['category'].value_counts().plot(kind='bar')"
   ]
  },
  {
   "cell_type": "code",
   "execution_count": 234,
   "metadata": {},
   "outputs": [
    {
     "data": {
      "text/html": [
       "<div>\n",
       "<style scoped>\n",
       "    .dataframe tbody tr th:only-of-type {\n",
       "        vertical-align: middle;\n",
       "    }\n",
       "\n",
       "    .dataframe tbody tr th {\n",
       "        vertical-align: top;\n",
       "    }\n",
       "\n",
       "    .dataframe thead th {\n",
       "        text-align: right;\n",
       "    }\n",
       "</style>\n",
       "<table border=\"1\" class=\"dataframe\">\n",
       "  <thead>\n",
       "    <tr style=\"text-align: right;\">\n",
       "      <th></th>\n",
       "      <th>cid</th>\n",
       "      <th>text</th>\n",
       "      <th>time</th>\n",
       "      <th>author</th>\n",
       "      <th>clikes</th>\n",
       "      <th>cdislikes</th>\n",
       "      <th>video_id</th>\n",
       "      <th>desc</th>\n",
       "      <th>category</th>\n",
       "    </tr>\n",
       "  </thead>\n",
       "  <tbody>\n",
       "    <tr>\n",
       "      <th>0</th>\n",
       "      <td>UgzZ18oxgsMMFvjh1qt4AaABAg</td>\n",
       "      <td>How to make a cake:  \\n\\n\\n\\n\\n\\n\\nGo to walma...</td>\n",
       "      <td>11 months ago</td>\n",
       "      <td>Steve Schaubroeck</td>\n",
       "      <td>1</td>\n",
       "      <td>0</td>\n",
       "      <td>-F_JZdohnio</td>\n",
       "      <td>mood</td>\n",
       "      <td>sarcasm</td>\n",
       "    </tr>\n",
       "    <tr>\n",
       "      <th>1</th>\n",
       "      <td>Ugyb7FC4oDirmlb3eoh4AaABAg</td>\n",
       "      <td>Wow</td>\n",
       "      <td>1 year ago</td>\n",
       "      <td>Alfredo Cervantes</td>\n",
       "      <td>1</td>\n",
       "      <td>0</td>\n",
       "      <td>-F_JZdohnio</td>\n",
       "      <td>mood</td>\n",
       "      <td>surprise</td>\n",
       "    </tr>\n",
       "    <tr>\n",
       "      <th>2</th>\n",
       "      <td>UgwuCvMQqcUhpeo6_jh4AaABAg</td>\n",
       "      <td>WOW   my  happy</td>\n",
       "      <td>1 year ago</td>\n",
       "      <td>유짜빈</td>\n",
       "      <td>1</td>\n",
       "      <td>0</td>\n",
       "      <td>-F_JZdohnio</td>\n",
       "      <td>mood</td>\n",
       "      <td>surprise</td>\n",
       "    </tr>\n",
       "    <tr>\n",
       "      <th>3</th>\n",
       "      <td>UgwuCvMQqcUhpeo6_jh4AaABAg</td>\n",
       "      <td>WOW   my  happy</td>\n",
       "      <td>1 year ago</td>\n",
       "      <td>유짜빈</td>\n",
       "      <td>1</td>\n",
       "      <td>0</td>\n",
       "      <td>-F_JZdohnio</td>\n",
       "      <td>mood</td>\n",
       "      <td>excitement</td>\n",
       "    </tr>\n",
       "    <tr>\n",
       "      <th>4</th>\n",
       "      <td>UgwuCvMQqcUhpeo6_jh4AaABAg</td>\n",
       "      <td>WOW   my  happy</td>\n",
       "      <td>1 year ago</td>\n",
       "      <td>유짜빈</td>\n",
       "      <td>1</td>\n",
       "      <td>0</td>\n",
       "      <td>-F_JZdohnio</td>\n",
       "      <td>mood</td>\n",
       "      <td>happy</td>\n",
       "    </tr>\n",
       "  </tbody>\n",
       "</table>\n",
       "</div>"
      ],
      "text/plain": [
       "                          cid  \\\n",
       "0  UgzZ18oxgsMMFvjh1qt4AaABAg   \n",
       "1  Ugyb7FC4oDirmlb3eoh4AaABAg   \n",
       "2  UgwuCvMQqcUhpeo6_jh4AaABAg   \n",
       "3  UgwuCvMQqcUhpeo6_jh4AaABAg   \n",
       "4  UgwuCvMQqcUhpeo6_jh4AaABAg   \n",
       "\n",
       "                                                text           time  \\\n",
       "0  How to make a cake:  \\n\\n\\n\\n\\n\\n\\nGo to walma...  11 months ago   \n",
       "1                                                Wow     1 year ago   \n",
       "2                                    WOW   my  happy     1 year ago   \n",
       "3                                    WOW   my  happy     1 year ago   \n",
       "4                                    WOW   my  happy     1 year ago   \n",
       "\n",
       "              author clikes cdislikes     video_id  desc    category  \n",
       "0  Steve Schaubroeck      1         0  -F_JZdohnio  mood     sarcasm  \n",
       "1  Alfredo Cervantes      1         0  -F_JZdohnio  mood    surprise  \n",
       "2                유짜빈      1         0  -F_JZdohnio  mood    surprise  \n",
       "3                유짜빈      1         0  -F_JZdohnio  mood  excitement  \n",
       "4                유짜빈      1         0  -F_JZdohnio  mood       happy  "
      ]
     },
     "execution_count": 234,
     "metadata": {},
     "output_type": "execute_result"
    }
   ],
   "source": [
    "moods = ['sarcasm', 'annoyance', 'anger', 'pity', 'sadness', 'relaxing', 'love',   \n",
    "         'surprise', 'excitement', 'neutral', 'happy']\n",
    "\n",
    "mood_coms2 = pd.DataFrame({\n",
    "      col:np.repeat(mood_coms[col].values, mood_coms['category'].str.len())\n",
    "      for col in mood_coms.columns.drop('category')}\n",
    "    ).assign(**{'category':np.concatenate(mood_coms['category'].values)})[mood_coms.columns]\n",
    "mood_coms2 = mood_coms2[mood_coms2['category'].isin(moods)]\n",
    "mood_coms2.head()"
   ]
  },
  {
   "cell_type": "code",
   "execution_count": 147,
   "metadata": {},
   "outputs": [
    {
     "data": {
      "text/plain": [
       "<matplotlib.axes._subplots.AxesSubplot at 0x11b9adcf8>"
      ]
     },
     "execution_count": 147,
     "metadata": {},
     "output_type": "execute_result"
    },
    {
     "data": {
      "image/png": "[encoded data removed]",
      "text/plain": [
       "<Figure size 432x288 with 1 Axes>"
      ]
     },
     "metadata": {
      "needs_background": "light"
     },
     "output_type": "display_data"
    }
   ],
   "source": [
    "# Plot subcategory abundances\n",
    "mood_coms2['category'].value_counts().plot(kind='bar')"
   ]
  },
  {
   "cell_type": "code",
   "execution_count": 44,
   "metadata": {},
   "outputs": [
    {
     "ename": "NameError",
     "evalue": "name 'useless' is not defined",
     "output_type": "error",
     "traceback": [
      "\u001b[0;31m---------------------------------------------------------------------------\u001b[0m",
      "\u001b[0;31mNameError\u001b[0m                                 Traceback (most recent call last)",
      "\u001b[0;32m<ipython-input-44-858a4fc0ed43>\u001b[0m in \u001b[0;36m<module>\u001b[0;34m\u001b[0m\n\u001b[1;32m      4\u001b[0m \u001b[0mmodel\u001b[0m \u001b[0;34m=\u001b[0m \u001b[0mfastText\u001b[0m\u001b[0;34m.\u001b[0m\u001b[0mload_model\u001b[0m\u001b[0;34m(\u001b[0m\u001b[0;34m'lid.176.bin'\u001b[0m\u001b[0;34m)\u001b[0m\u001b[0;34m\u001b[0m\u001b[0;34m\u001b[0m\u001b[0m\n\u001b[1;32m      5\u001b[0m \u001b[0;34m\u001b[0m\u001b[0m\n\u001b[0;32m----> 6\u001b[0;31m \u001b[0museless\u001b[0m\u001b[0;34m[\u001b[0m\u001b[0;34m'text'\u001b[0m\u001b[0;34m]\u001b[0m \u001b[0;34m=\u001b[0m \u001b[0museless\u001b[0m\u001b[0;34m[\u001b[0m\u001b[0;34m'text'\u001b[0m\u001b[0;34m]\u001b[0m\u001b[0;34m.\u001b[0m\u001b[0mapply\u001b[0m\u001b[0;34m(\u001b[0m\u001b[0;32mlambda\u001b[0m \u001b[0mx\u001b[0m\u001b[0;34m:\u001b[0m \u001b[0mx\u001b[0m\u001b[0;34m.\u001b[0m\u001b[0mreplace\u001b[0m\u001b[0;34m(\u001b[0m\u001b[0;34m'\\n'\u001b[0m\u001b[0;34m,\u001b[0m\u001b[0;34m' '\u001b[0m\u001b[0;34m)\u001b[0m\u001b[0;34m)\u001b[0m\u001b[0;34m\u001b[0m\u001b[0;34m\u001b[0m\u001b[0m\n\u001b[0m\u001b[1;32m      7\u001b[0m \u001b[0;32mdef\u001b[0m \u001b[0mpred_lang\u001b[0m\u001b[0;34m(\u001b[0m\u001b[0mtext\u001b[0m\u001b[0;34m,\u001b[0m \u001b[0mmodel\u001b[0m\u001b[0;34m)\u001b[0m\u001b[0;34m:\u001b[0m\u001b[0;34m\u001b[0m\u001b[0;34m\u001b[0m\u001b[0m\n\u001b[1;32m      8\u001b[0m     \u001b[0;32mreturn\u001b[0m \u001b[0mmodel\u001b[0m\u001b[0;34m.\u001b[0m\u001b[0mpredict\u001b[0m\u001b[0;34m(\u001b[0m\u001b[0mtext\u001b[0m\u001b[0;34m)\u001b[0m\u001b[0;34m[\u001b[0m\u001b[0;36m0\u001b[0m\u001b[0;34m]\u001b[0m\u001b[0;34m[\u001b[0m\u001b[0;36m0\u001b[0m\u001b[0;34m]\u001b[0m\u001b[0;34m.\u001b[0m\u001b[0mreplace\u001b[0m\u001b[0;34m(\u001b[0m\u001b[0;34m'__label__'\u001b[0m\u001b[0;34m,\u001b[0m \u001b[0;34m''\u001b[0m\u001b[0;34m)\u001b[0m\u001b[0;34m\u001b[0m\u001b[0;34m\u001b[0m\u001b[0m\n",
      "\u001b[0;31mNameError\u001b[0m: name 'useless' is not defined"
     ]
    }
   ],
   "source": [
    "# fasttext\n",
    "import fastText\n",
    "\n",
    "model = fastText.load_model('lid.176.bin')\n",
    "\n",
    "useless['text'] = useless['text'].apply(lambda x: x.replace('\\n',' '))\n",
    "def pred_lang(text, model):\n",
    "    return model.predict(text)[0][0].replace('__label__', '')\n",
    "\n",
    "useless['lang'] = useless['text'].apply(lambda x: pred_lang(x, model))"
   ]
  },
  {
   "cell_type": "code",
   "execution_count": 45,
   "metadata": {},
   "outputs": [
    {
     "data": {
      "text/plain": [
       "(('__label__en',), array([0.9]))"
      ]
     },
     "execution_count": 45,
     "metadata": {},
     "output_type": "execute_result"
    }
   ],
   "source": [
    "textwade = \"Stoddart has pioneered the development of the use of molecular recognition and self-assembly processes in template-directed protocols for the synthesis of mechanically interlocked molecules, such as catenanes and rotaxanes.\"\n",
    "model.predict(textwade)"
   ]
  },
  {
   "cell_type": "code",
   "execution_count": 197,
   "metadata": {},
   "outputs": [
    {
     "data": {
      "text/plain": [
       "8947"
      ]
     },
     "execution_count": 197,
     "metadata": {},
     "output_type": "execute_result"
    }
   ],
   "source": [
    "len(useless)"
   ]
  },
  {
   "cell_type": "code",
   "execution_count": 198,
   "metadata": {},
   "outputs": [
    {
     "data": {
      "text/plain": [
       "2796"
      ]
     },
     "execution_count": 198,
     "metadata": {},
     "output_type": "execute_result"
    }
   ],
   "source": [
    "len(useless[useless['lang'] != 'en'])"
   ]
  },
  {
   "cell_type": "code",
   "execution_count": 200,
   "metadata": {},
   "outputs": [
    {
     "data": {
      "text/html": [
       "<div>\n",
       "<style scoped>\n",
       "    .dataframe tbody tr th:only-of-type {\n",
       "        vertical-align: middle;\n",
       "    }\n",
       "\n",
       "    .dataframe tbody tr th {\n",
       "        vertical-align: top;\n",
       "    }\n",
       "\n",
       "    .dataframe thead th {\n",
       "        text-align: right;\n",
       "    }\n",
       "</style>\n",
       "<table border=\"1\" class=\"dataframe\">\n",
       "  <thead>\n",
       "    <tr style=\"text-align: right;\">\n",
       "      <th></th>\n",
       "      <th>cid</th>\n",
       "      <th>text</th>\n",
       "      <th>time</th>\n",
       "      <th>author</th>\n",
       "      <th>clikes</th>\n",
       "      <th>cdislikes</th>\n",
       "      <th>video_id</th>\n",
       "      <th>desc</th>\n",
       "      <th>category</th>\n",
       "      <th>lang</th>\n",
       "    </tr>\n",
       "  </thead>\n",
       "  <tbody>\n",
       "    <tr>\n",
       "      <th>1</th>\n",
       "      <td>Ugye0Hi357G1JLG7ao94AaABAg</td>\n",
       "      <td>nice and sweet</td>\n",
       "      <td>1 year ago</td>\n",
       "      <td>Ravi kumar</td>\n",
       "      <td>1</td>\n",
       "      <td>0</td>\n",
       "      <td>-F_JZdohnio</td>\n",
       "      <td>['other']</td>\n",
       "      <td>['other']</td>\n",
       "      <td>en</td>\n",
       "    </tr>\n",
       "    <tr>\n",
       "      <th>6</th>\n",
       "      <td>Ugz9DzBIiGDc1Gns1c54AaABAg</td>\n",
       "      <td>You know that no one see what you ride</td>\n",
       "      <td>1 year ago</td>\n",
       "      <td>Marie Madsen</td>\n",
       "      <td>1</td>\n",
       "      <td>0</td>\n",
       "      <td>-F_JZdohnio</td>\n",
       "      <td>['other']</td>\n",
       "      <td>['other']</td>\n",
       "      <td>en</td>\n",
       "    </tr>\n",
       "    <tr>\n",
       "      <th>7</th>\n",
       "      <td>UgwTLoWl_t80UeVrA4x4AaABAg</td>\n",
       "      <td>Are you selling the house</td>\n",
       "      <td>1 year ago</td>\n",
       "      <td>Zoe-Jane Hawyes</td>\n",
       "      <td>1</td>\n",
       "      <td>0</td>\n",
       "      <td>-F_JZdohnio</td>\n",
       "      <td>['other']</td>\n",
       "      <td>['other']</td>\n",
       "      <td>en</td>\n",
       "    </tr>\n",
       "    <tr>\n",
       "      <th>14</th>\n",
       "      <td>Ugy2AFRYY1LbCipeefR4AaABAg</td>\n",
       "      <td>I made that bear my son John loved that 😘🍰🎂🍪🍭🍬📍</td>\n",
       "      <td>1 year ago</td>\n",
       "      <td>Anirban Sarkar</td>\n",
       "      <td>1</td>\n",
       "      <td>0</td>\n",
       "      <td>-F_JZdohnio</td>\n",
       "      <td>['other']</td>\n",
       "      <td>['other']</td>\n",
       "      <td>en</td>\n",
       "    </tr>\n",
       "    <tr>\n",
       "      <th>19</th>\n",
       "      <td>UgxwMQs4LWZkd1p-aSR4AaABAg</td>\n",
       "      <td>Kim tuyen dau co an duoc sao lai nhung vao</td>\n",
       "      <td>1 year ago</td>\n",
       "      <td>Táo Đỏ</td>\n",
       "      <td>1</td>\n",
       "      <td>0</td>\n",
       "      <td>-F_JZdohnio</td>\n",
       "      <td>['other']</td>\n",
       "      <td>['other']</td>\n",
       "      <td>en</td>\n",
       "    </tr>\n",
       "  </tbody>\n",
       "</table>\n",
       "</div>"
      ],
      "text/plain": [
       "                           cid  \\\n",
       "1   Ugye0Hi357G1JLG7ao94AaABAg   \n",
       "6   Ugz9DzBIiGDc1Gns1c54AaABAg   \n",
       "7   UgwTLoWl_t80UeVrA4x4AaABAg   \n",
       "14  Ugy2AFRYY1LbCipeefR4AaABAg   \n",
       "19  UgxwMQs4LWZkd1p-aSR4AaABAg   \n",
       "\n",
       "                                               text        time  \\\n",
       "1                                    nice and sweet  1 year ago   \n",
       "6            You know that no one see what you ride  1 year ago   \n",
       "7                         Are you selling the house  1 year ago   \n",
       "14  I made that bear my son John loved that 😘🍰🎂🍪🍭🍬📍  1 year ago   \n",
       "19       Kim tuyen dau co an duoc sao lai nhung vao  1 year ago   \n",
       "\n",
       "             author clikes cdislikes     video_id       desc   category lang  \n",
       "1        Ravi kumar      1         0  -F_JZdohnio  ['other']  ['other']   en  \n",
       "6      Marie Madsen      1         0  -F_JZdohnio  ['other']  ['other']   en  \n",
       "7   Zoe-Jane Hawyes      1         0  -F_JZdohnio  ['other']  ['other']   en  \n",
       "14   Anirban Sarkar      1         0  -F_JZdohnio  ['other']  ['other']   en  \n",
       "19           Táo Đỏ      1         0  -F_JZdohnio  ['other']  ['other']   en  "
      ]
     },
     "execution_count": 200,
     "metadata": {},
     "output_type": "execute_result"
    }
   ],
   "source": [
    "useless[useless['lang'] == 'en'].head()"
   ]
  },
  {
   "cell_type": "code",
   "execution_count": 247,
   "metadata": {},
   "outputs": [
    {
     "data": {
      "text/plain": [
       "(('__label__en',), array([0.18731828]))"
      ]
     },
     "execution_count": 247,
     "metadata": {},
     "output_type": "execute_result"
    }
   ],
   "source": [
    "model.predict(\"Kim tuyen dau co an duoc sao lai nhung vao\")"
   ]
  },
  {
   "cell_type": "code",
   "execution_count": 229,
   "metadata": {},
   "outputs": [
    {
     "data": {
      "text/html": [
       "<div>\n",
       "<style scoped>\n",
       "    .dataframe tbody tr th:only-of-type {\n",
       "        vertical-align: middle;\n",
       "    }\n",
       "\n",
       "    .dataframe tbody tr th {\n",
       "        vertical-align: top;\n",
       "    }\n",
       "\n",
       "    .dataframe thead th {\n",
       "        text-align: right;\n",
       "    }\n",
       "</style>\n",
       "<table border=\"1\" class=\"dataframe\">\n",
       "  <thead>\n",
       "    <tr style=\"text-align: right;\">\n",
       "      <th></th>\n",
       "      <th>cid</th>\n",
       "      <th>text</th>\n",
       "      <th>time</th>\n",
       "      <th>author</th>\n",
       "      <th>clikes</th>\n",
       "      <th>cdislikes</th>\n",
       "      <th>video_id</th>\n",
       "      <th>desc</th>\n",
       "      <th>category</th>\n",
       "    </tr>\n",
       "  </thead>\n",
       "  <tbody>\n",
       "    <tr>\n",
       "      <th>0</th>\n",
       "      <td>UgzxfCB4RvW-PS1pTMh4AaABAg</td>\n",
       "      <td>Very niceeeeee 😍😘😍😘</td>\n",
       "      <td>11 months ago</td>\n",
       "      <td>ARWIN S. B. KING</td>\n",
       "      <td>4</td>\n",
       "      <td>0</td>\n",
       "      <td>-F_JZdohnio</td>\n",
       "      <td>mixed</td>\n",
       "      <td>entertaining</td>\n",
       "    </tr>\n",
       "    <tr>\n",
       "      <th>1</th>\n",
       "      <td>UgzxfCB4RvW-PS1pTMh4AaABAg</td>\n",
       "      <td>Very niceeeeee 😍😘😍😘</td>\n",
       "      <td>11 months ago</td>\n",
       "      <td>ARWIN S. B. KING</td>\n",
       "      <td>4</td>\n",
       "      <td>0</td>\n",
       "      <td>-F_JZdohnio</td>\n",
       "      <td>mixed</td>\n",
       "      <td>happy</td>\n",
       "    </tr>\n",
       "    <tr>\n",
       "      <th>2</th>\n",
       "      <td>UgyISMF0Sbi_Fljoi7B4AaABAg</td>\n",
       "      <td>Cool 😄</td>\n",
       "      <td>1 year ago</td>\n",
       "      <td>Azn Boi</td>\n",
       "      <td>1</td>\n",
       "      <td>0</td>\n",
       "      <td>-F_JZdohnio</td>\n",
       "      <td>mixed</td>\n",
       "      <td>entertaining</td>\n",
       "    </tr>\n",
       "    <tr>\n",
       "      <th>3</th>\n",
       "      <td>UgyISMF0Sbi_Fljoi7B4AaABAg</td>\n",
       "      <td>Cool 😄</td>\n",
       "      <td>1 year ago</td>\n",
       "      <td>Azn Boi</td>\n",
       "      <td>1</td>\n",
       "      <td>0</td>\n",
       "      <td>-F_JZdohnio</td>\n",
       "      <td>mixed</td>\n",
       "      <td>excitement</td>\n",
       "    </tr>\n",
       "    <tr>\n",
       "      <th>4</th>\n",
       "      <td>UgyISMF0Sbi_Fljoi7B4AaABAg</td>\n",
       "      <td>Cool 😄</td>\n",
       "      <td>1 year ago</td>\n",
       "      <td>Azn Boi</td>\n",
       "      <td>1</td>\n",
       "      <td>0</td>\n",
       "      <td>-F_JZdohnio</td>\n",
       "      <td>mixed</td>\n",
       "      <td>happy</td>\n",
       "    </tr>\n",
       "  </tbody>\n",
       "</table>\n",
       "</div>"
      ],
      "text/plain": [
       "                          cid                 text           time  \\\n",
       "0  UgzxfCB4RvW-PS1pTMh4AaABAg  Very niceeeeee 😍😘😍😘  11 months ago   \n",
       "1  UgzxfCB4RvW-PS1pTMh4AaABAg  Very niceeeeee 😍😘😍😘  11 months ago   \n",
       "2  UgyISMF0Sbi_Fljoi7B4AaABAg               Cool 😄     1 year ago   \n",
       "3  UgyISMF0Sbi_Fljoi7B4AaABAg               Cool 😄     1 year ago   \n",
       "4  UgyISMF0Sbi_Fljoi7B4AaABAg               Cool 😄     1 year ago   \n",
       "\n",
       "             author clikes cdislikes     video_id   desc      category  \n",
       "0  ARWIN S. B. KING      4         0  -F_JZdohnio  mixed  entertaining  \n",
       "1  ARWIN S. B. KING      4         0  -F_JZdohnio  mixed         happy  \n",
       "2           Azn Boi      1         0  -F_JZdohnio  mixed  entertaining  \n",
       "3           Azn Boi      1         0  -F_JZdohnio  mixed    excitement  \n",
       "4           Azn Boi      1         0  -F_JZdohnio  mixed         happy  "
      ]
     },
     "execution_count": 229,
     "metadata": {},
     "output_type": "execute_result"
    }
   ],
   "source": [
    "mixed_coms2 = pd.DataFrame({\n",
    "      col:np.repeat(mixed_coms[col].values, mixed_coms['category'].str.len())\n",
    "      for col in mixed_coms.columns.drop('category')}\n",
    "    ).assign(**{'category':np.concatenate(mixed_coms['category'].values)})[mixed_coms.columns]\n",
    "mixed_coms_mood2 = mixed_coms2[mixed_coms2['category'].isin(moods)]\n",
    "mixed_coms_content2 = mixed_coms2[mixed_coms2['category'].isin(contents)]\n",
    "mixed_coms2.head()"
   ]
  },
  {
   "cell_type": "code",
   "execution_count": 230,
   "metadata": {},
   "outputs": [
    {
     "data": {
      "text/plain": [
       "<matplotlib.axes._subplots.AxesSubplot at 0x11da2a668>"
      ]
     },
     "execution_count": 230,
     "metadata": {},
     "output_type": "execute_result"
    },
    {
     "data": {
      "image/png": "[encoded data removed]",
      "text/plain": [
       "<Figure size 432x288 with 1 Axes>"
      ]
     },
     "metadata": {},
     "output_type": "display_data"
    }
   ],
   "source": [
    "mixed_coms2['category'].value_counts().plot(kind='bar')"
   ]
  },
  {
   "cell_type": "code",
   "execution_count": 231,
   "metadata": {},
   "outputs": [
    {
     "data": {
      "text/plain": [
       "<matplotlib.axes._subplots.AxesSubplot at 0x12fba0588>"
      ]
     },
     "execution_count": 231,
     "metadata": {},
     "output_type": "execute_result"
    },
    {
     "data": {
      "image/png": "[encoded data removed]",
      "text/plain": [
       "<Figure size 432x288 with 1 Axes>"
      ]
     },
     "metadata": {},
     "output_type": "display_data"
    }
   ],
   "source": [
    "mixed_coms_mood2['category'].value_counts().plot(kind='bar')"
   ]
  },
  {
   "cell_type": "code",
   "execution_count": 240,
   "metadata": {},
   "outputs": [
    {
     "data": {
      "text/html": [
       "<div>\n",
       "<style scoped>\n",
       "    .dataframe tbody tr th:only-of-type {\n",
       "        vertical-align: middle;\n",
       "    }\n",
       "\n",
       "    .dataframe tbody tr th {\n",
       "        vertical-align: top;\n",
       "    }\n",
       "\n",
       "    .dataframe thead th {\n",
       "        text-align: right;\n",
       "    }\n",
       "</style>\n",
       "<table border=\"1\" class=\"dataframe\">\n",
       "  <thead>\n",
       "    <tr style=\"text-align: right;\">\n",
       "      <th></th>\n",
       "      <th>cid</th>\n",
       "      <th>text</th>\n",
       "      <th>time</th>\n",
       "      <th>author</th>\n",
       "      <th>clikes</th>\n",
       "      <th>cdislikes</th>\n",
       "      <th>video_id</th>\n",
       "      <th>desc</th>\n",
       "      <th>category</th>\n",
       "    </tr>\n",
       "  </thead>\n",
       "  <tbody>\n",
       "    <tr>\n",
       "      <th>2892</th>\n",
       "      <td>Ugx9PiE45aImAKj01Gl4AaABAg</td>\n",
       "      <td>Delicious!!!</td>\n",
       "      <td>5 days ago</td>\n",
       "      <td>padussia</td>\n",
       "      <td>1</td>\n",
       "      <td>0</td>\n",
       "      <td>Cc6nTGOEmCA</td>\n",
       "      <td>mixed</td>\n",
       "      <td>excitement</td>\n",
       "    </tr>\n",
       "    <tr>\n",
       "      <th>2897</th>\n",
       "      <td>UgyV4XUg8WE9me_aaUh4AaABAg</td>\n",
       "      <td>I hate this video</td>\n",
       "      <td>4 months ago</td>\n",
       "      <td>abhi Tripathi</td>\n",
       "      <td>1</td>\n",
       "      <td>0</td>\n",
       "      <td>CcXTeR42cVg</td>\n",
       "      <td>mixed</td>\n",
       "      <td>annoyance</td>\n",
       "    </tr>\n",
       "    <tr>\n",
       "      <th>2899</th>\n",
       "      <td>UgwSkdwUbP1yJCbiMP14AaABAg</td>\n",
       "      <td>Wow....yummy.</td>\n",
       "      <td>4 months ago</td>\n",
       "      <td>Arnel Mandalunes</td>\n",
       "      <td>1</td>\n",
       "      <td>0</td>\n",
       "      <td>CcXTeR42cVg</td>\n",
       "      <td>mixed</td>\n",
       "      <td>excitement</td>\n",
       "    </tr>\n",
       "    <tr>\n",
       "      <th>2907</th>\n",
       "      <td>UgwH-jekQ8kyN6rMX0x4AaABAg</td>\n",
       "      <td>(I am sorry) but this is so fucking disgusting...</td>\n",
       "      <td>2 months ago</td>\n",
       "      <td>Nikolay Nikolaev</td>\n",
       "      <td>1</td>\n",
       "      <td>0</td>\n",
       "      <td>CcXTeR42cVg</td>\n",
       "      <td>mixed</td>\n",
       "      <td>annoyance</td>\n",
       "    </tr>\n",
       "    <tr>\n",
       "      <th>2909</th>\n",
       "      <td>Ugz6YJOwTK1t_5ajold4AaABAg</td>\n",
       "      <td>Kawara Fattah! A dish  i tried in egypt and is...</td>\n",
       "      <td>4 months ago</td>\n",
       "      <td>Jahe Raiya</td>\n",
       "      <td>1</td>\n",
       "      <td>0</td>\n",
       "      <td>CcXTeR42cVg</td>\n",
       "      <td>mixed</td>\n",
       "      <td>excitement</td>\n",
       "    </tr>\n",
       "  </tbody>\n",
       "</table>\n",
       "</div>"
      ],
      "text/plain": [
       "                             cid  \\\n",
       "2892  Ugx9PiE45aImAKj01Gl4AaABAg   \n",
       "2897  UgyV4XUg8WE9me_aaUh4AaABAg   \n",
       "2899  UgwSkdwUbP1yJCbiMP14AaABAg   \n",
       "2907  UgwH-jekQ8kyN6rMX0x4AaABAg   \n",
       "2909  Ugz6YJOwTK1t_5ajold4AaABAg   \n",
       "\n",
       "                                                   text          time  \\\n",
       "2892                                       Delicious!!!    5 days ago   \n",
       "2897                                  I hate this video  4 months ago   \n",
       "2899                                      Wow....yummy.  4 months ago   \n",
       "2907  (I am sorry) but this is so fucking disgusting...  2 months ago   \n",
       "2909  Kawara Fattah! A dish  i tried in egypt and is...  4 months ago   \n",
       "\n",
       "                author clikes cdislikes     video_id   desc    category  \n",
       "2892          padussia      1         0  Cc6nTGOEmCA  mixed  excitement  \n",
       "2897     abhi Tripathi      1         0  CcXTeR42cVg  mixed   annoyance  \n",
       "2899  Arnel Mandalunes      1         0  CcXTeR42cVg  mixed  excitement  \n",
       "2907  Nikolay Nikolaev      1         0  CcXTeR42cVg  mixed   annoyance  \n",
       "2909        Jahe Raiya      1         0  CcXTeR42cVg  mixed  excitement  "
      ]
     },
     "execution_count": 240,
     "metadata": {},
     "output_type": "execute_result"
    }
   ],
   "source": [
    "# Write clean data to csv file\n",
    "import pickle\n",
    "\n",
    "keep_moods = ['excitement', 'relaxing', 'annoyance', 'sadness', 'sarcasm', 'surprise']\n",
    "keep_conts = ['entertaining', 'incorrect','disgust','informative','stupid', 'question', 'weird','funny','delicious']\n",
    "\n",
    "final_moods_pkl = pd.concat([mood_coms2[mood_coms2['category'].isin(keep_moods)], mixed_coms_mood2[mixed_coms_mood2['category'].isin(keep_moods)]])\n",
    "final_contents_pkl = pd.concat([content_coms2[content_coms2['category'].isin(keep_conts)], mixed_coms_content2[mixed_coms_content2['category'].isin(keep_conts)]])\n",
    "final_moods_pkl.tail()"
   ]
  },
  {
   "cell_type": "code",
   "execution_count": 241,
   "metadata": {},
   "outputs": [
    {
     "data": {
      "text/html": [
       "<div>\n",
       "<style scoped>\n",
       "    .dataframe tbody tr th:only-of-type {\n",
       "        vertical-align: middle;\n",
       "    }\n",
       "\n",
       "    .dataframe tbody tr th {\n",
       "        vertical-align: top;\n",
       "    }\n",
       "\n",
       "    .dataframe thead th {\n",
       "        text-align: right;\n",
       "    }\n",
       "</style>\n",
       "<table border=\"1\" class=\"dataframe\">\n",
       "  <thead>\n",
       "    <tr style=\"text-align: right;\">\n",
       "      <th></th>\n",
       "      <th>cid</th>\n",
       "      <th>text</th>\n",
       "      <th>time</th>\n",
       "      <th>author</th>\n",
       "      <th>clikes</th>\n",
       "      <th>cdislikes</th>\n",
       "      <th>video_id</th>\n",
       "      <th>desc</th>\n",
       "      <th>category</th>\n",
       "    </tr>\n",
       "  </thead>\n",
       "  <tbody>\n",
       "    <tr>\n",
       "      <th>2904</th>\n",
       "      <td>UgzXv-gTMmZJfqURsQV4AaABAg</td>\n",
       "      <td>These girls are true food lovers and serious e...</td>\n",
       "      <td>5 days ago</td>\n",
       "      <td>sougounaradjan ramalingam</td>\n",
       "      <td>1</td>\n",
       "      <td>0</td>\n",
       "      <td>Cc6nTGOEmCA</td>\n",
       "      <td>mixed</td>\n",
       "      <td>delicious</td>\n",
       "    </tr>\n",
       "    <tr>\n",
       "      <th>2906</th>\n",
       "      <td>UgwH-jekQ8kyN6rMX0x4AaABAg</td>\n",
       "      <td>(I am sorry) but this is so fucking disgusting...</td>\n",
       "      <td>2 months ago</td>\n",
       "      <td>Nikolay Nikolaev</td>\n",
       "      <td>1</td>\n",
       "      <td>0</td>\n",
       "      <td>CcXTeR42cVg</td>\n",
       "      <td>mixed</td>\n",
       "      <td>disgust</td>\n",
       "    </tr>\n",
       "    <tr>\n",
       "      <th>2908</th>\n",
       "      <td>Ugz6YJOwTK1t_5ajold4AaABAg</td>\n",
       "      <td>Kawara Fattah! A dish  i tried in egypt and is...</td>\n",
       "      <td>4 months ago</td>\n",
       "      <td>Jahe Raiya</td>\n",
       "      <td>1</td>\n",
       "      <td>0</td>\n",
       "      <td>CcXTeR42cVg</td>\n",
       "      <td>mixed</td>\n",
       "      <td>delicious</td>\n",
       "    </tr>\n",
       "    <tr>\n",
       "      <th>2910</th>\n",
       "      <td>UgyZYNJAxlgJQW4MPUR4AaABAg</td>\n",
       "      <td>I love making beef jelly out of cow and pig fe...</td>\n",
       "      <td>1 month ago</td>\n",
       "      <td>Nadia Waugh</td>\n",
       "      <td>2</td>\n",
       "      <td>0</td>\n",
       "      <td>CcXTeR42cVg</td>\n",
       "      <td>mixed</td>\n",
       "      <td>delicious</td>\n",
       "    </tr>\n",
       "    <tr>\n",
       "      <th>2912</th>\n",
       "      <td>UgwLA79sbMrkwUPe66x4AaABAg</td>\n",
       "      <td>Good working girls respectful cooking girl in ...</td>\n",
       "      <td>6 days ago</td>\n",
       "      <td>Mehar Sayeed</td>\n",
       "      <td>1</td>\n",
       "      <td>0</td>\n",
       "      <td>Cc6nTGOEmCA</td>\n",
       "      <td>mixed</td>\n",
       "      <td>delicious</td>\n",
       "    </tr>\n",
       "  </tbody>\n",
       "</table>\n",
       "</div>"
      ],
      "text/plain": [
       "                             cid  \\\n",
       "2904  UgzXv-gTMmZJfqURsQV4AaABAg   \n",
       "2906  UgwH-jekQ8kyN6rMX0x4AaABAg   \n",
       "2908  Ugz6YJOwTK1t_5ajold4AaABAg   \n",
       "2910  UgyZYNJAxlgJQW4MPUR4AaABAg   \n",
       "2912  UgwLA79sbMrkwUPe66x4AaABAg   \n",
       "\n",
       "                                                   text          time  \\\n",
       "2904  These girls are true food lovers and serious e...    5 days ago   \n",
       "2906  (I am sorry) but this is so fucking disgusting...  2 months ago   \n",
       "2908  Kawara Fattah! A dish  i tried in egypt and is...  4 months ago   \n",
       "2910  I love making beef jelly out of cow and pig fe...   1 month ago   \n",
       "2912  Good working girls respectful cooking girl in ...    6 days ago   \n",
       "\n",
       "                         author clikes cdislikes     video_id   desc  \\\n",
       "2904  sougounaradjan ramalingam      1         0  Cc6nTGOEmCA  mixed   \n",
       "2906           Nikolay Nikolaev      1         0  CcXTeR42cVg  mixed   \n",
       "2908                 Jahe Raiya      1         0  CcXTeR42cVg  mixed   \n",
       "2910                Nadia Waugh      2         0  CcXTeR42cVg  mixed   \n",
       "2912               Mehar Sayeed      1         0  Cc6nTGOEmCA  mixed   \n",
       "\n",
       "       category  \n",
       "2904  delicious  \n",
       "2906    disgust  \n",
       "2908  delicious  \n",
       "2910  delicious  \n",
       "2912  delicious  "
      ]
     },
     "execution_count": 241,
     "metadata": {},
     "output_type": "execute_result"
    }
   ],
   "source": [
    "final_contents_pkl.tail()"
   ]
  },
  {
   "cell_type": "code",
   "execution_count": 242,
   "metadata": {},
   "outputs": [],
   "source": [
    "final_contents_pkl.to_pickle('comments_labeled_content_py2.pkl', protocol=2)\n",
    "final_moods_pkl.to_pickle('comments_labeled_mood_py2.pkl', protocol=2)"
   ]
  },
  {
   "cell_type": "code",
   "execution_count": 243,
   "metadata": {},
   "outputs": [
    {
     "data": {
      "text/plain": [
       "<matplotlib.axes._subplots.AxesSubplot at 0x11dd5d8d0>"
      ]
     },
     "execution_count": 243,
     "metadata": {},
     "output_type": "execute_result"
    },
    {
     "data": {
      "image/png": "[encoded data removed]",
      "text/plain": [
       "<Figure size 432x288 with 1 Axes>"
      ]
     },
     "metadata": {},
     "output_type": "display_data"
    }
   ],
   "source": [
    "mixed_coms_content2['category'].value_counts().plot(kind='bar')"
   ]
  },
  {
   "cell_type": "markdown",
   "metadata": {},
   "source": [
    "## Clean & tokenize comments"
   ]
  },
  {
   "cell_type": "code",
   "execution_count": 244,
   "metadata": {},
   "outputs": [],
   "source": [
    "from tqdm import tqdm\n",
    "from gensim.models import Doc2Vec\n",
    "from sklearn import utils\n",
    "from sklearn.model_selection import train_test_split\n",
    "import gensim\n",
    "from sklearn.linear_model import LogisticRegression\n",
    "from gensim.models.doc2vec import TaggedDocument\n",
    "import re\n",
    "import seaborn as sns\n",
    "import matplotlib.pyplot as plt\n",
    "import nltk\n",
    "from nltk.corpus import stopwords\n",
    "from nltk.tokenize import WhitespaceTokenizer\n",
    "from nltk.stem.wordnet import WordNetLemmatizer\n",
    "lemmatizer = WordNetLemmatizer()\n",
    "\n",
    "# Functions\n",
    "def rem_emoji(comment, emojis):\n",
    "    cleaned = comment\n",
    "    for e in emojis:\n",
    "        cleaned = cleaned.replace(e, \"\")\n",
    "    return cleaned\n",
    "\n",
    "en_stops = set(stopwords.words('english'))\n",
    "\n",
    "ws_tokenizer = WhitespaceTokenizer()\n",
    "\n",
    "def clean_comments(text):\n",
    "    text = re.sub(r'[?|!|\\'|\"|#]',r'',text)\n",
    "    text = re.sub(r'[.|,|)|(|\\|/]',r' ',text)\n",
    "    text = text.replace(\"@\",\"\").replace(\"&\",\"\").replace(\":\",\"\").replace(\"\\\"\",\"\").replace(\"/\",\"\").replace(\"''\",\"\")\n",
    "    text = text.replace(\"â€œ\",\"\").replace(\"â€˜\",\"\").replace(\"*\",\"\").replace(\"’\",\"\").replace(\"\\n\",\"\").replace(\"$\",\"\")\n",
    "    text = text.lower()\n",
    "    \n",
    "    if not bool(set(text.split()) & set(en_stops)):\n",
    "        return None\n",
    "    \n",
    "    new_text = \"\"\n",
    "    for word in text.split():\n",
    "        tmp_word = re.sub('[^a-z A-Z]+', ' ', word)\n",
    "        new_text += tmp_word + \" \"\n",
    "    new_text = new_text.strip()\n",
    "\n",
    "    return new_text\n",
    "\n",
    "def tokenize_text(text):\n",
    "    tokens = []\n",
    "    for word in nltk.word_tokenize(text):\n",
    "        if len(word) < 2 or word in en_stops:\n",
    "            continue\n",
    "        tokens.append(word.lower())\n",
    "    return tokens\n",
    "\n",
    "def lemmat_list(words):\n",
    "    new_words = []\n",
    "    for word in words:\n",
    "        new_words.append(lemmatizer.lemmatize(word))\n",
    "    return new_words"
   ]
  },
  {
   "cell_type": "code",
   "execution_count": 207,
   "metadata": {},
   "outputs": [
    {
     "name": "stderr",
     "output_type": "stream",
     "text": [
      "/Users/kristenbrown/miniconda3/envs/insight/lib/python3.6/site-packages/ipykernel_launcher.py:8: SettingWithCopyWarning: \n",
      "A value is trying to be set on a copy of a slice from a DataFrame.\n",
      "Try using .loc[row_indexer,col_indexer] = value instead\n",
      "\n",
      "See the caveats in the documentation: http://pandas.pydata.org/pandas-docs/stable/indexing.html#indexing-view-versus-copy\n",
      "  \n"
     ]
    }
   ],
   "source": [
    "mood_coms2['cl_text'] = mood_coms2['text'].apply(clean_comments)\n",
    "mood_coms2.dropna(inplace=True)\n",
    "mood_coms2['tk_text'] = mood_coms2['cl_text'].apply(tokenize_text)\n",
    "mood_coms2.dropna(inplace=True)\n",
    "mood_coms2['lm_text'] = mood_coms2['tk_text'].apply(lemmat_list)\n",
    "mood_coms2['lm_len'] = mood_coms2['lm_text'].apply(len)\n",
    "mood_train = mood_coms2.loc[mood_coms2['lm_len'] > 2]\n",
    "mood_train['fn_text'] = mood_train['lm_text'].apply(' '.join)"
   ]
  },
  {
   "cell_type": "code",
   "execution_count": 209,
   "metadata": {},
   "outputs": [
    {
     "name": "stdout",
     "output_type": "stream",
     "text": [
      "(1822, 14)\n"
     ]
    },
    {
     "data": {
      "text/html": [
       "<div>\n",
       "<style scoped>\n",
       "    .dataframe tbody tr th:only-of-type {\n",
       "        vertical-align: middle;\n",
       "    }\n",
       "\n",
       "    .dataframe tbody tr th {\n",
       "        vertical-align: top;\n",
       "    }\n",
       "\n",
       "    .dataframe thead th {\n",
       "        text-align: right;\n",
       "    }\n",
       "</style>\n",
       "<table border=\"1\" class=\"dataframe\">\n",
       "  <thead>\n",
       "    <tr style=\"text-align: right;\">\n",
       "      <th></th>\n",
       "      <th>cid</th>\n",
       "      <th>text</th>\n",
       "      <th>time</th>\n",
       "      <th>author</th>\n",
       "      <th>clikes</th>\n",
       "      <th>cdislikes</th>\n",
       "      <th>video_id</th>\n",
       "      <th>desc</th>\n",
       "      <th>category</th>\n",
       "      <th>cl_text</th>\n",
       "      <th>tk_text</th>\n",
       "      <th>lm_text</th>\n",
       "      <th>lm_len</th>\n",
       "      <th>fn_text</th>\n",
       "    </tr>\n",
       "  </thead>\n",
       "  <tbody>\n",
       "    <tr>\n",
       "      <th>0</th>\n",
       "      <td>UgzZ18oxgsMMFvjh1qt4AaABAg</td>\n",
       "      <td>How to make a cake:  \\n\\n\\n\\n\\n\\n\\nGo to walma...</td>\n",
       "      <td>11 months ago</td>\n",
       "      <td>Steve Schaubroeck</td>\n",
       "      <td>1</td>\n",
       "      <td>0</td>\n",
       "      <td>-F_JZdohnio</td>\n",
       "      <td>mood</td>\n",
       "      <td>sarcasm</td>\n",
       "      <td>how to make a cake go to walmart and buy a cak...</td>\n",
       "      <td>[make, cake, go, walmart, buy, cake, done, sor...</td>\n",
       "      <td>[make, cake, go, walmart, buy, cake, done, sor...</td>\n",
       "      <td>11</td>\n",
       "      <td>make cake go walmart buy cake done sorry ment ...</td>\n",
       "    </tr>\n",
       "    <tr>\n",
       "      <th>5</th>\n",
       "      <td>Ugz-llBWT3SyBRvB_RB4AaABAg</td>\n",
       "      <td>I can't even walk and you gays making cakes</td>\n",
       "      <td>1 year ago</td>\n",
       "      <td>Maria Rodaete</td>\n",
       "      <td>1</td>\n",
       "      <td>0</td>\n",
       "      <td>-F_JZdohnio</td>\n",
       "      <td>mood</td>\n",
       "      <td>sarcasm</td>\n",
       "      <td>i cant even walk and you gays making cakes</td>\n",
       "      <td>[cant, even, walk, gays, making, cakes]</td>\n",
       "      <td>[cant, even, walk, gay, making, cake]</td>\n",
       "      <td>6</td>\n",
       "      <td>cant even walk gay making cake</td>\n",
       "    </tr>\n",
       "    <tr>\n",
       "      <th>9</th>\n",
       "      <td>Ugxb1A3x383LpHqzUr54AaABAg</td>\n",
       "      <td>I love the fluffy bear is so cute</td>\n",
       "      <td>1 year ago</td>\n",
       "      <td>zdenka Gunarova</td>\n",
       "      <td>1</td>\n",
       "      <td>0</td>\n",
       "      <td>-F_JZdohnio</td>\n",
       "      <td>mood</td>\n",
       "      <td>love</td>\n",
       "      <td>i love the fluffy bear is so cute</td>\n",
       "      <td>[love, fluffy, bear, cute]</td>\n",
       "      <td>[love, fluffy, bear, cute]</td>\n",
       "      <td>4</td>\n",
       "      <td>love fluffy bear cute</td>\n",
       "    </tr>\n",
       "    <tr>\n",
       "      <th>11</th>\n",
       "      <td>Ugw8p5rPKjjQRkW0lER4AaABAg</td>\n",
       "      <td>The teddy bear cake take 3 days to finished......</td>\n",
       "      <td>1 year ago</td>\n",
       "      <td>Pika_TheKitty XD</td>\n",
       "      <td>1</td>\n",
       "      <td>0</td>\n",
       "      <td>-F_JZdohnio</td>\n",
       "      <td>mood</td>\n",
       "      <td>sarcasm</td>\n",
       "      <td>the teddy bear cake take   days to finished bu...</td>\n",
       "      <td>[teddy, bear, cake, take, days, finished, ate,...</td>\n",
       "      <td>[teddy, bear, cake, take, day, finished, ate, ...</td>\n",
       "      <td>11</td>\n",
       "      <td>teddy bear cake take day finished ate took one...</td>\n",
       "    </tr>\n",
       "    <tr>\n",
       "      <th>14</th>\n",
       "      <td>UgyYGOS89VCJW_FsGah4AaABAg</td>\n",
       "      <td>It is all fun and cooking until the recipes ru...</td>\n",
       "      <td>1 year ago</td>\n",
       "      <td>Cactus’ Legos</td>\n",
       "      <td>1</td>\n",
       "      <td>0</td>\n",
       "      <td>-F_JZdohnio</td>\n",
       "      <td>mood</td>\n",
       "      <td>sarcasm</td>\n",
       "      <td>it is all fun and cooking until the recipes ru...</td>\n",
       "      <td>[fun, cooking, recipes, run]</td>\n",
       "      <td>[fun, cooking, recipe, run]</td>\n",
       "      <td>4</td>\n",
       "      <td>fun cooking recipe run</td>\n",
       "    </tr>\n",
       "  </tbody>\n",
       "</table>\n",
       "</div>"
      ],
      "text/plain": [
       "                           cid  \\\n",
       "0   UgzZ18oxgsMMFvjh1qt4AaABAg   \n",
       "5   Ugz-llBWT3SyBRvB_RB4AaABAg   \n",
       "9   Ugxb1A3x383LpHqzUr54AaABAg   \n",
       "11  Ugw8p5rPKjjQRkW0lER4AaABAg   \n",
       "14  UgyYGOS89VCJW_FsGah4AaABAg   \n",
       "\n",
       "                                                 text           time  \\\n",
       "0   How to make a cake:  \\n\\n\\n\\n\\n\\n\\nGo to walma...  11 months ago   \n",
       "5         I can't even walk and you gays making cakes     1 year ago   \n",
       "9                   I love the fluffy bear is so cute     1 year ago   \n",
       "11  The teddy bear cake take 3 days to finished......     1 year ago   \n",
       "14  It is all fun and cooking until the recipes ru...     1 year ago   \n",
       "\n",
       "               author clikes cdislikes     video_id  desc category  \\\n",
       "0   Steve Schaubroeck      1         0  -F_JZdohnio  mood  sarcasm   \n",
       "5       Maria Rodaete      1         0  -F_JZdohnio  mood  sarcasm   \n",
       "9     zdenka Gunarova      1         0  -F_JZdohnio  mood     love   \n",
       "11   Pika_TheKitty XD      1         0  -F_JZdohnio  mood  sarcasm   \n",
       "14      Cactus’ Legos      1         0  -F_JZdohnio  mood  sarcasm   \n",
       "\n",
       "                                              cl_text  \\\n",
       "0   how to make a cake go to walmart and buy a cak...   \n",
       "5          i cant even walk and you gays making cakes   \n",
       "9                   i love the fluffy bear is so cute   \n",
       "11  the teddy bear cake take   days to finished bu...   \n",
       "14  it is all fun and cooking until the recipes ru...   \n",
       "\n",
       "                                              tk_text  \\\n",
       "0   [make, cake, go, walmart, buy, cake, done, sor...   \n",
       "5             [cant, even, walk, gays, making, cakes]   \n",
       "9                          [love, fluffy, bear, cute]   \n",
       "11  [teddy, bear, cake, take, days, finished, ate,...   \n",
       "14                       [fun, cooking, recipes, run]   \n",
       "\n",
       "                                              lm_text  lm_len  \\\n",
       "0   [make, cake, go, walmart, buy, cake, done, sor...      11   \n",
       "5               [cant, even, walk, gay, making, cake]       6   \n",
       "9                          [love, fluffy, bear, cute]       4   \n",
       "11  [teddy, bear, cake, take, day, finished, ate, ...      11   \n",
       "14                        [fun, cooking, recipe, run]       4   \n",
       "\n",
       "                                              fn_text  \n",
       "0   make cake go walmart buy cake done sorry ment ...  \n",
       "5                      cant even walk gay making cake  \n",
       "9                               love fluffy bear cute  \n",
       "11  teddy bear cake take day finished ate took one...  \n",
       "14                             fun cooking recipe run  "
      ]
     },
     "execution_count": 209,
     "metadata": {},
     "output_type": "execute_result"
    }
   ],
   "source": [
    "print(mood_train.shape)\n",
    "mood_train.head()"
   ]
  },
  {
   "cell_type": "code",
   "execution_count": 210,
   "metadata": {},
   "outputs": [
    {
     "data": {
      "text/plain": [
       "<matplotlib.axes._subplots.AxesSubplot at 0x1219af0b8>"
      ]
     },
     "execution_count": 210,
     "metadata": {},
     "output_type": "execute_result"
    },
    {
     "data": {
      "image/png": "[encoded data removed]",
      "text/plain": [
       "<Figure size 432x288 with 1 Axes>"
      ]
     },
     "metadata": {
      "needs_background": "light"
     },
     "output_type": "display_data"
    }
   ],
   "source": [
    "mood_train['category'].value_counts().plot(kind='bar')"
   ]
  },
  {
   "cell_type": "code",
   "execution_count": 211,
   "metadata": {},
   "outputs": [],
   "source": [
    "categories_high = ['annoyance', 'sarcasm', 'love', 'relaxing', 'happy']"
   ]
  },
  {
   "cell_type": "markdown",
   "metadata": {},
   "source": [
    "## Gensim\n",
    "\n",
    "Checking word2vec again..."
   ]
  },
  {
   "cell_type": "code",
   "execution_count": 223,
   "metadata": {},
   "outputs": [
    {
     "data": {
      "text/plain": [
       "(156374, 176540)"
      ]
     },
     "execution_count": 223,
     "metadata": {},
     "output_type": "execute_result"
    }
   ],
   "source": [
    "# Word2vec model for embeddings  \n",
    "from gensim.models import Word2Vec\n",
    "from gensim.models import KeyedVectors\n",
    "from sklearn.decomposition import PCA\n",
    "\n",
    "# Defining the structure of our word2vec model \n",
    "\n",
    "# Size is the dimentionality feature of the model \n",
    "model_1 = Word2Vec(size=300, min_count=1)\n",
    "#Feeding Our coupus \n",
    "model_1.build_vocab(mood_train['lm_text'])\n",
    "#Lenth of the courpus \n",
    "total_examples = model_1.corpus_count\n",
    "\n",
    "#traning our model\n",
    "model_1.train(mood_train['lm_text'], total_examples=total_examples, epochs=10)"
   ]
  },
  {
   "cell_type": "code",
   "execution_count": 228,
   "metadata": {},
   "outputs": [
    {
     "name": "stderr",
     "output_type": "stream",
     "text": [
      "/Users/kristenbrown/miniconda3/envs/insight/lib/python3.6/site-packages/ipykernel_launcher.py:3: DeprecationWarning: Call to deprecated `__getitem__` (Method will be removed in 4.0.0, use self.wv.__getitem__() instead).\n",
      "  This is separate from the ipykernel package so we can avoid doing imports until\n",
      "/Users/kristenbrown/miniconda3/envs/insight/lib/python3.6/site-packages/numpy/matrixlib/defmatrix.py:71: PendingDeprecationWarning: the matrix subclass is not the recommended way to represent matrices or deal with linear algebra (see https://docs.scipy.org/doc/numpy/user/numpy-for-matlab-users.html). Please adjust your code to use regular ndarray.\n",
      "  return matrix(data, dtype=dtype, copy=False)\n"
     ]
    },
    {
     "data": {
      "image/png": "[encoded data removed]",
      "text/plain": [
       "<Figure size 842.4x595.44 with 1 Axes>"
      ]
     },
     "metadata": {},
     "output_type": "display_data"
    }
   ],
   "source": [
    "from sklearn.manifold import TSNE\n",
    "\n",
    "df = model_1[model_1.wv.vocab]\n",
    "words = list(model_1.wv.vocab)\n",
    "\n",
    "# Filter the list of vectors to include only those that Word2Vec has a vector for\n",
    "vector_list = [model_1[word] for word in words if word in model_1.wv.vocab]\n",
    "\n",
    "# Create a list of the words corresponding to these vectors\n",
    "words_filtered = [word for word in words if word in model_1.wv.vocab]\n",
    "\n",
    "# Zip the words together with their vector representations\n",
    "word_vec_zip = zip(words_filtered, vector_list)\n",
    "\n",
    "# Cast to a dict so we can turn it into a DataFrame\n",
    "word_vec_dict = dict(word_vec_zip)\n",
    "df = pd.DataFrame.from_dict(word_vec_dict, orient='index')\n",
    "df.head(3)\n",
    "\n",
    "# Initialize t-SNE\n",
    "tsne = TSNE(n_components = 2, init = 'random', random_state = 10, perplexity = 100)\n",
    "\n",
    "# Use only 400 rows to shorten processing time\n",
    "tsne_df = tsne.fit_transform(df[:200])\n",
    "sns.set_style('ticks')\n",
    "# Initialize figure\n",
    "fig, ax = plt.subplots(figsize = (11.7, 8.27))\n",
    "sns.scatterplot(tsne_df[:, 0], tsne_df[:, 1], alpha = 0.5)\n",
    "\n",
    "# Import adjustText, initialize list of texts\n",
    "from adjustText import adjust_text\n",
    "texts = []\n",
    "words_to_plot = list(np.arange(0, 200, 10))\n",
    "\n",
    "# Append words to list\n",
    "for word in words_to_plot:\n",
    "    texts.append(plt.text(tsne_df[word, 0], tsne_df[word, 1], df.index[word], fontsize = 14))\n",
    "    \n",
    "# Plot text using adjust_text (because overlapping text is hard to read)\n",
    "adjust_text(texts, force_points = 0.4, force_text = 0.4, \n",
    "            expand_points = (2,1), expand_text = (1,2),\n",
    "            arrowprops = dict(arrowstyle = \"-\", color = 'black', lw = 0.5))\n",
    "\n",
    "plt.show()"
   ]
  },
  {
   "cell_type": "markdown",
   "metadata": {},
   "source": [
    "## TF-IDF \n",
    "\n",
    "Checking the basic log-reg model again..."
   ]
  },
  {
   "cell_type": "code",
   "execution_count": 212,
   "metadata": {},
   "outputs": [],
   "source": [
    "# vectorize the articles and compute count matrix\n",
    "from sklearn.feature_extraction.text import TfidfVectorizer\n",
    "from sklearn.model_selection import train_test_split\n",
    "from sklearn.feature_extraction.text import TfidfVectorizer\n",
    "from sklearn.naive_bayes import MultinomialNB\n",
    "from sklearn.metrics import accuracy_score\n",
    "from sklearn.multiclass import OneVsRestClassifier\n",
    "from sklearn.pipeline import Pipeline\n",
    "\n",
    "tf_vectorizer = TfidfVectorizer(max_features = 1000, ngram_range=(1,3))"
   ]
  },
  {
   "cell_type": "code",
   "execution_count": 218,
   "metadata": {},
   "outputs": [
    {
     "data": {
      "text/html": [
       "<div>\n",
       "<style scoped>\n",
       "    .dataframe tbody tr th:only-of-type {\n",
       "        vertical-align: middle;\n",
       "    }\n",
       "\n",
       "    .dataframe tbody tr th {\n",
       "        vertical-align: top;\n",
       "    }\n",
       "\n",
       "    .dataframe thead th {\n",
       "        text-align: right;\n",
       "    }\n",
       "</style>\n",
       "<table border=\"1\" class=\"dataframe\">\n",
       "  <thead>\n",
       "    <tr style=\"text-align: right;\">\n",
       "      <th></th>\n",
       "      <th>cid</th>\n",
       "      <th>text</th>\n",
       "      <th>time</th>\n",
       "      <th>author</th>\n",
       "      <th>clikes</th>\n",
       "      <th>cdislikes</th>\n",
       "      <th>video_id</th>\n",
       "      <th>desc</th>\n",
       "      <th>category</th>\n",
       "      <th>cl_text</th>\n",
       "      <th>tk_text</th>\n",
       "      <th>lm_text</th>\n",
       "      <th>lm_len</th>\n",
       "      <th>fn_text</th>\n",
       "      <th>annoyance</th>\n",
       "      <th>excitement</th>\n",
       "      <th>relaxing</th>\n",
       "    </tr>\n",
       "  </thead>\n",
       "  <tbody>\n",
       "    <tr>\n",
       "      <th>21</th>\n",
       "      <td>UgxFxZZZVcBKpezy_4R4AaABAg.8fx5ssaN_ps8iNCbr4v4e-</td>\n",
       "      <td>Primitive Technology Records you need to appre...</td>\n",
       "      <td>11 months ago (edited)</td>\n",
       "      <td>ncalipa</td>\n",
       "      <td>1</td>\n",
       "      <td>0</td>\n",
       "      <td>-F_JZdohnio</td>\n",
       "      <td>mood</td>\n",
       "      <td>excitement</td>\n",
       "      <td>primitive technology records you need to appre...</td>\n",
       "      <td>[primitive, technology, records, need, appreci...</td>\n",
       "      <td>[primitive, technology, record, need, apprecia...</td>\n",
       "      <td>19</td>\n",
       "      <td>primitive technology record need appreciate su...</td>\n",
       "      <td>0</td>\n",
       "      <td>1</td>\n",
       "      <td>0</td>\n",
       "    </tr>\n",
       "    <tr>\n",
       "      <th>23</th>\n",
       "      <td>Ugx-I7saCJwZfo9XKO54AaABAg.8g7zKbYq6R88jUzW7Sj7eJ</td>\n",
       "      <td>prachi sarkar My mom can make them! My mom is ...</td>\n",
       "      <td>10 months ago (edited)</td>\n",
       "      <td>Parishey Asif N.</td>\n",
       "      <td>1</td>\n",
       "      <td>0</td>\n",
       "      <td>-F_JZdohnio</td>\n",
       "      <td>mood</td>\n",
       "      <td>excitement</td>\n",
       "      <td>prachi sarkar my mom can make them my mom is a...</td>\n",
       "      <td>[prachi, sarkar, mom, make, mom, expert, makin...</td>\n",
       "      <td>[prachi, sarkar, mom, make, mom, expert, makin...</td>\n",
       "      <td>21</td>\n",
       "      <td>prachi sarkar mom make mom expert making cake ...</td>\n",
       "      <td>0</td>\n",
       "      <td>1</td>\n",
       "      <td>0</td>\n",
       "    </tr>\n",
       "    <tr>\n",
       "      <th>27</th>\n",
       "      <td>UgxJIXwZLEuc6E4yspJ4AaABAg.8girma_m7778kNDWmUj79J</td>\n",
       "      <td>Do you meant \\n\\n\\n\\nSO COPPIYING OTHERS CONTE...</td>\n",
       "      <td>9 months ago</td>\n",
       "      <td>IItsYourGurl Glynnis</td>\n",
       "      <td>1</td>\n",
       "      <td>0</td>\n",
       "      <td>-F_JZdohnio</td>\n",
       "      <td>mood</td>\n",
       "      <td>annoyance</td>\n",
       "      <td>do you meant so coppiying others content cough...</td>\n",
       "      <td>[meant, coppiying, others, content, cough, wai...</td>\n",
       "      <td>[meant, coppiying, others, content, cough, wai...</td>\n",
       "      <td>10</td>\n",
       "      <td>meant coppiying others content cough wait repo...</td>\n",
       "      <td>1</td>\n",
       "      <td>0</td>\n",
       "      <td>0</td>\n",
       "    </tr>\n",
       "    <tr>\n",
       "      <th>30</th>\n",
       "      <td>UgzTuEouwDCU-rSSk9t4AaABAg</td>\n",
       "      <td>I’ve seen the unicorn cake too much. Stop ✋</td>\n",
       "      <td>1 year ago</td>\n",
       "      <td>:3 :3</td>\n",
       "      <td>1</td>\n",
       "      <td>0</td>\n",
       "      <td>-F_JZdohnio</td>\n",
       "      <td>mood</td>\n",
       "      <td>annoyance</td>\n",
       "      <td>ive seen the unicorn cake too much stop</td>\n",
       "      <td>[ive, seen, unicorn, cake, much, stop]</td>\n",
       "      <td>[ive, seen, unicorn, cake, much, stop]</td>\n",
       "      <td>6</td>\n",
       "      <td>ive seen unicorn cake much stop</td>\n",
       "      <td>1</td>\n",
       "      <td>0</td>\n",
       "      <td>0</td>\n",
       "    </tr>\n",
       "    <tr>\n",
       "      <th>31</th>\n",
       "      <td>UgxJq3Xx3V9ikBM_lwl4AaABAg</td>\n",
       "      <td>Do you have diabetes?? If you don't.. thank Go...</td>\n",
       "      <td>1 year ago</td>\n",
       "      <td>white Fijian Tongan.</td>\n",
       "      <td>1</td>\n",
       "      <td>0</td>\n",
       "      <td>-F_JZdohnio</td>\n",
       "      <td>mood</td>\n",
       "      <td>excitement</td>\n",
       "      <td>do you have diabetes if you dont thank god i n...</td>\n",
       "      <td>[diabetes, dont, thank, god, need, someone, te...</td>\n",
       "      <td>[diabetes, dont, thank, god, need, someone, te...</td>\n",
       "      <td>9</td>\n",
       "      <td>diabetes dont thank god need someone teach bak...</td>\n",
       "      <td>0</td>\n",
       "      <td>1</td>\n",
       "      <td>0</td>\n",
       "    </tr>\n",
       "  </tbody>\n",
       "</table>\n",
       "</div>"
      ],
      "text/plain": [
       "                                                  cid  \\\n",
       "21  UgxFxZZZVcBKpezy_4R4AaABAg.8fx5ssaN_ps8iNCbr4v4e-   \n",
       "23  Ugx-I7saCJwZfo9XKO54AaABAg.8g7zKbYq6R88jUzW7Sj7eJ   \n",
       "27  UgxJIXwZLEuc6E4yspJ4AaABAg.8girma_m7778kNDWmUj79J   \n",
       "30                         UgzTuEouwDCU-rSSk9t4AaABAg   \n",
       "31                         UgxJq3Xx3V9ikBM_lwl4AaABAg   \n",
       "\n",
       "                                                 text                    time  \\\n",
       "21  Primitive Technology Records you need to appre...  11 months ago (edited)   \n",
       "23  prachi sarkar My mom can make them! My mom is ...  10 months ago (edited)   \n",
       "27  Do you meant \\n\\n\\n\\nSO COPPIYING OTHERS CONTE...            9 months ago   \n",
       "30        I’ve seen the unicorn cake too much. Stop ✋              1 year ago   \n",
       "31  Do you have diabetes?? If you don't.. thank Go...              1 year ago   \n",
       "\n",
       "                  author clikes cdislikes     video_id  desc    category  \\\n",
       "21               ncalipa      1         0  -F_JZdohnio  mood  excitement   \n",
       "23      Parishey Asif N.      1         0  -F_JZdohnio  mood  excitement   \n",
       "27  IItsYourGurl Glynnis      1         0  -F_JZdohnio  mood   annoyance   \n",
       "30                 :3 :3      1         0  -F_JZdohnio  mood   annoyance   \n",
       "31  white Fijian Tongan.      1         0  -F_JZdohnio  mood  excitement   \n",
       "\n",
       "                                              cl_text  \\\n",
       "21  primitive technology records you need to appre...   \n",
       "23  prachi sarkar my mom can make them my mom is a...   \n",
       "27  do you meant so coppiying others content cough...   \n",
       "30            ive seen the unicorn cake too much stop   \n",
       "31  do you have diabetes if you dont thank god i n...   \n",
       "\n",
       "                                              tk_text  \\\n",
       "21  [primitive, technology, records, need, appreci...   \n",
       "23  [prachi, sarkar, mom, make, mom, expert, makin...   \n",
       "27  [meant, coppiying, others, content, cough, wai...   \n",
       "30             [ive, seen, unicorn, cake, much, stop]   \n",
       "31  [diabetes, dont, thank, god, need, someone, te...   \n",
       "\n",
       "                                              lm_text  lm_len  \\\n",
       "21  [primitive, technology, record, need, apprecia...      19   \n",
       "23  [prachi, sarkar, mom, make, mom, expert, makin...      21   \n",
       "27  [meant, coppiying, others, content, cough, wai...      10   \n",
       "30             [ive, seen, unicorn, cake, much, stop]       6   \n",
       "31  [diabetes, dont, thank, god, need, someone, te...       9   \n",
       "\n",
       "                                              fn_text  annoyance  excitement  \\\n",
       "21  primitive technology record need appreciate su...          0           1   \n",
       "23  prachi sarkar mom make mom expert making cake ...          0           1   \n",
       "27  meant coppiying others content cough wait repo...          1           0   \n",
       "30                    ive seen unicorn cake much stop          1           0   \n",
       "31  diabetes dont thank god need someone teach bak...          0           1   \n",
       "\n",
       "    relaxing  \n",
       "21         0  \n",
       "23         0  \n",
       "27         0  \n",
       "30         0  \n",
       "31         0  "
      ]
     },
     "execution_count": 218,
     "metadata": {},
     "output_type": "execute_result"
    }
   ],
   "source": [
    "# drop low categories\n",
    "categories_high = ['annoyance', 'excitement', 'relaxing']\n",
    "final_mood = mood_train[mood_train['text'] != ''][['cid','fn_text']]\n",
    "final_mood = mood_train[mood_train['category'].isin(categories_high)]\n",
    "final_mood = pd.concat([final_mood, pd.get_dummies(final_mood['category'])], axis=1)\n",
    "final_mood.head()"
   ]
  },
  {
   "cell_type": "code",
   "execution_count": 219,
   "metadata": {},
   "outputs": [
    {
     "name": "stderr",
     "output_type": "stream",
     "text": [
      "/Users/kristenbrown/miniconda3/envs/insight/lib/python3.6/site-packages/numpy/matrixlib/defmatrix.py:71: PendingDeprecationWarning: the matrix subclass is not the recommended way to represent matrices or deal with linear algebra (see https://docs.scipy.org/doc/numpy/user/numpy-for-matlab-users.html). Please adjust your code to use regular ndarray.\n",
      "  return matrix(data, dtype=dtype, copy=False)\n"
     ]
    },
    {
     "name": "stdout",
     "output_type": "stream",
     "text": [
      "Test accuracy is 0.5040650406504065\n"
     ]
    }
   ],
   "source": [
    "# train on just the 3 classes\n",
    "#finaldata = tf_vectorizer.fit_transform(finalemoji3['comment_clean'])\n",
    "train, test = train_test_split(final_mood, random_state=42, test_size=0.33, shuffle=True)\n",
    "X_train = train['fn_text']\n",
    "ytrain = train.drop(labels=['cid', 'fn_text'], axis=1)\n",
    "X_test = test['fn_text']\n",
    "ytest = test.drop(labels=['cid', 'fn_text'], axis=1)\n",
    "\n",
    "NB_pipeline = Pipeline([('tfidf', TfidfVectorizer(max_features = 1000, ngram_range=(1,3))),\n",
    "                ('clf', OneVsRestClassifier(LogisticRegression(solver='sag'))),\n",
    "            ])\n",
    "\n",
    "# train the model using X_dtm & y\n",
    "NB_pipeline.fit(X_train, ytrain[categories_high])\n",
    "# compute the testing accuracy\n",
    "prediction = NB_pipeline.predict(X_test)\n",
    "print('Test accuracy is {}'.format(accuracy_score(ytest[categories_high], prediction)))"
   ]
  },
  {
   "cell_type": "code",
   "execution_count": 220,
   "metadata": {},
   "outputs": [
    {
     "name": "stderr",
     "output_type": "stream",
     "text": [
      "/Users/kristenbrown/miniconda3/envs/insight/lib/python3.6/site-packages/numpy/matrixlib/defmatrix.py:71: PendingDeprecationWarning: the matrix subclass is not the recommended way to represent matrices or deal with linear algebra (see https://docs.scipy.org/doc/numpy/user/numpy-for-matlab-users.html). Please adjust your code to use regular ndarray.\n",
      "  return matrix(data, dtype=dtype, copy=False)\n"
     ]
    },
    {
     "name": "stdout",
     "output_type": "stream",
     "text": [
      "Test accuracy is 0.47560975609756095\n"
     ]
    }
   ],
   "source": [
    "NB_pipeline = Pipeline([('tfidf', TfidfVectorizer(max_features = 1000, ngram_range=(1,3))),\n",
    "                ('clf', OneVsRestClassifier(MultinomialNB(\n",
    "                    fit_prior=True, class_prior=None))),\n",
    "            ])\n",
    "\n",
    "# train the model using X_dtm & y\n",
    "NB_pipeline.fit(X_train, ytrain[categories_high])\n",
    "# compute the testing accuracy\n",
    "prediction = NB_pipeline.predict(X_test)\n",
    "print('Test accuracy is {}'.format(accuracy_score(ytest[categories_high], prediction)))"
   ]
  },
  {
   "cell_type": "markdown",
   "metadata": {},
   "source": [
    "# Check out DeepMoji Results\n",
    "\n",
    "Loading the test results for deepmoji\n",
    "\n",
    "## model 1"
   ]
  },
  {
   "cell_type": "code",
   "execution_count": 3,
   "metadata": {},
   "outputs": [],
   "source": [
    "# Deepmoji results\n",
    "dmoji = pd.read_csv('../../DeepMoji/deepmoji_text.csv', index_col=0)"
   ]
  },
  {
   "cell_type": "code",
   "execution_count": 4,
   "metadata": {},
   "outputs": [
    {
     "data": {
      "text/html": [
       "<div>\n",
       "<style scoped>\n",
       "    .dataframe tbody tr th:only-of-type {\n",
       "        vertical-align: middle;\n",
       "    }\n",
       "\n",
       "    .dataframe tbody tr th {\n",
       "        vertical-align: top;\n",
       "    }\n",
       "\n",
       "    .dataframe thead th {\n",
       "        text-align: right;\n",
       "    }\n",
       "</style>\n",
       "<table border=\"1\" class=\"dataframe\">\n",
       "  <thead>\n",
       "    <tr style=\"text-align: right;\">\n",
       "      <th></th>\n",
       "      <th>0</th>\n",
       "      <th>1</th>\n",
       "      <th>2</th>\n",
       "      <th>3</th>\n",
       "      <th>4</th>\n",
       "      <th>5</th>\n",
       "      <th>6</th>\n",
       "      <th>7</th>\n",
       "      <th>8</th>\n",
       "      <th>9</th>\n",
       "      <th>...</th>\n",
       "      <th>196</th>\n",
       "      <th>197</th>\n",
       "      <th>198</th>\n",
       "      <th>199</th>\n",
       "      <th>200</th>\n",
       "      <th>201</th>\n",
       "      <th>202</th>\n",
       "      <th>203</th>\n",
       "      <th>204</th>\n",
       "      <th>205</th>\n",
       "    </tr>\n",
       "  </thead>\n",
       "  <tbody>\n",
       "    <tr>\n",
       "      <th>0</th>\n",
       "      <td>7</td>\n",
       "      <td>5</td>\n",
       "      <td>2</td>\n",
       "      <td>4</td>\n",
       "      <td>5</td>\n",
       "      <td>2</td>\n",
       "      <td>7</td>\n",
       "      <td>0</td>\n",
       "      <td>4</td>\n",
       "      <td>8</td>\n",
       "      <td>...</td>\n",
       "      <td>0</td>\n",
       "      <td>4</td>\n",
       "      <td>2</td>\n",
       "      <td>8</td>\n",
       "      <td>2</td>\n",
       "      <td>7</td>\n",
       "      <td>7</td>\n",
       "      <td>3</td>\n",
       "      <td>5</td>\n",
       "      <td>6</td>\n",
       "    </tr>\n",
       "    <tr>\n",
       "      <th>1</th>\n",
       "      <td>8</td>\n",
       "      <td>2</td>\n",
       "      <td>8</td>\n",
       "      <td>8</td>\n",
       "      <td>6</td>\n",
       "      <td>11</td>\n",
       "      <td>11</td>\n",
       "      <td>4</td>\n",
       "      <td>4</td>\n",
       "      <td>5</td>\n",
       "      <td>...</td>\n",
       "      <td>1</td>\n",
       "      <td>1</td>\n",
       "      <td>8</td>\n",
       "      <td>0</td>\n",
       "      <td>7</td>\n",
       "      <td>12</td>\n",
       "      <td>0</td>\n",
       "      <td>5</td>\n",
       "      <td>2</td>\n",
       "      <td>8</td>\n",
       "    </tr>\n",
       "  </tbody>\n",
       "</table>\n",
       "<p>2 rows × 206 columns</p>\n",
       "</div>"
      ],
      "text/plain": [
       "   0  1  2  3  4   5   6  7  8  9  ...  196  197  198  199  200  201  202  \\\n",
       "0  7  5  2  4  5   2   7  0  4  8  ...    0    4    2    8    2    7    7   \n",
       "1  8  2  8  8  6  11  11  4  4  5  ...    1    1    8    0    7   12    0   \n",
       "\n",
       "   203  204  205  \n",
       "0    3    5    6  \n",
       "1    5    2    8  \n",
       "\n",
       "[2 rows x 206 columns]"
      ]
     },
     "execution_count": 4,
     "metadata": {},
     "output_type": "execute_result"
    }
   ],
   "source": [
    "dmoji.head()"
   ]
  },
  {
   "cell_type": "code",
   "execution_count": 5,
   "metadata": {},
   "outputs": [
    {
     "name": "stderr",
     "output_type": "stream",
     "text": [
      "/Users/kristenbrown/miniconda3/envs/insight/lib/python3.6/importlib/_bootstrap.py:219: RuntimeWarning: numpy.ufunc size changed, may indicate binary incompatibility. Expected 192 from C header, got 216 from PyObject\n",
      "  return f(*args, **kwds)\n",
      "/Users/kristenbrown/miniconda3/envs/insight/lib/python3.6/importlib/_bootstrap.py:219: RuntimeWarning: numpy.ufunc size changed, may indicate binary incompatibility. Expected 192 from C header, got 216 from PyObject\n",
      "  return f(*args, **kwds)\n",
      "/Users/kristenbrown/miniconda3/envs/insight/lib/python3.6/importlib/_bootstrap.py:219: RuntimeWarning: numpy.ufunc size changed, may indicate binary incompatibility. Expected 192 from C header, got 216 from PyObject\n",
      "  return f(*args, **kwds)\n",
      "/Users/kristenbrown/miniconda3/envs/insight/lib/python3.6/importlib/_bootstrap.py:219: RuntimeWarning: numpy.ufunc size changed, may indicate binary incompatibility. Expected 192 from C header, got 216 from PyObject\n",
      "  return f(*args, **kwds)\n",
      "/Users/kristenbrown/miniconda3/envs/insight/lib/python3.6/importlib/_bootstrap.py:219: RuntimeWarning: numpy.ufunc size changed, may indicate binary incompatibility. Expected 192 from C header, got 216 from PyObject\n",
      "  return f(*args, **kwds)\n",
      "/Users/kristenbrown/miniconda3/envs/insight/lib/python3.6/importlib/_bootstrap.py:219: RuntimeWarning: numpy.ufunc size changed, may indicate binary incompatibility. Expected 192 from C header, got 216 from PyObject\n",
      "  return f(*args, **kwds)\n"
     ]
    }
   ],
   "source": [
    "from sklearn.metrics import multilabel_confusion_matrix\n",
    "\n",
    "mcm = multilabel_confusion_matrix(dmoji.iloc[0].values, dmoji.iloc[1].values, labels=range(9))"
   ]
  },
  {
   "cell_type": "code",
   "execution_count": 6,
   "metadata": {},
   "outputs": [
    {
     "data": {
      "text/plain": [
       "array([0.13043478, 0.05882353, 0.10526316, 0.        , 0.25      ,\n",
       "       0.29268293, 0.14285714, 0.04761905, 0.0952381 ])"
      ]
     },
     "execution_count": 6,
     "metadata": {},
     "output_type": "execute_result"
    }
   ],
   "source": [
    "tn = mcm[:, 0, 0]\n",
    "tp = mcm[:, 1, 1]\n",
    "fn = mcm[:, 1, 0]\n",
    "fp = mcm[:, 0, 1]\n",
    "tp / (tp + fn)"
   ]
  },
  {
   "cell_type": "code",
   "execution_count": 7,
   "metadata": {},
   "outputs": [
    {
     "name": "stderr",
     "output_type": "stream",
     "text": [
      "/Users/kristenbrown/miniconda3/envs/insight/lib/python3.6/site-packages/ipykernel_launcher.py:1: RuntimeWarning: invalid value encountered in true_divide\n",
      "  \"\"\"Entry point for launching an IPython kernel.\n"
     ]
    },
    {
     "data": {
      "text/plain": [
       "array([0.27272727, 0.125     , 0.17391304,        nan, 0.13636364,\n",
       "       0.22641509, 0.05405405, 0.5       , 0.07407407])"
      ]
     },
     "execution_count": 7,
     "metadata": {},
     "output_type": "execute_result"
    }
   ],
   "source": [
    "tp / (tp+fp)"
   ]
  },
  {
   "cell_type": "code",
   "execution_count": 8,
   "metadata": {},
   "outputs": [
    {
     "name": "stderr",
     "output_type": "stream",
     "text": [
      "/Users/kristenbrown/miniconda3/envs/insight/lib/python3.6/site-packages/ipykernel_launcher.py:1: RuntimeWarning: invalid value encountered in true_divide\n",
      "  \"\"\"Entry point for launching an IPython kernel.\n"
     ]
    },
    {
     "data": {
      "text/plain": [
       "array([0.17647059, 0.08      , 0.13114754,        nan, 0.17647059,\n",
       "       0.25531915, 0.07843137, 0.08695652, 0.08333333])"
      ]
     },
     "execution_count": 8,
     "metadata": {},
     "output_type": "execute_result"
    }
   ],
   "source": [
    "(2* ((tp / (tp+fp)) * (tp / (tp + fn))))/((tp / (tp + fn))+(tp / (tp+fp)))"
   ]
  },
  {
   "cell_type": "markdown",
   "metadata": {},
   "source": [
    "## model 2"
   ]
  },
  {
   "cell_type": "code",
   "execution_count": 29,
   "metadata": {},
   "outputs": [
    {
     "data": {
      "text/html": [
       "<div>\n",
       "<style scoped>\n",
       "    .dataframe tbody tr th:only-of-type {\n",
       "        vertical-align: middle;\n",
       "    }\n",
       "\n",
       "    .dataframe tbody tr th {\n",
       "        vertical-align: top;\n",
       "    }\n",
       "\n",
       "    .dataframe thead th {\n",
       "        text-align: right;\n",
       "    }\n",
       "</style>\n",
       "<table border=\"1\" class=\"dataframe\">\n",
       "  <thead>\n",
       "    <tr style=\"text-align: right;\">\n",
       "      <th></th>\n",
       "      <th>0</th>\n",
       "      <th>1</th>\n",
       "      <th>2</th>\n",
       "      <th>3</th>\n",
       "      <th>4</th>\n",
       "      <th>5</th>\n",
       "      <th>6</th>\n",
       "      <th>7</th>\n",
       "      <th>8</th>\n",
       "      <th>9</th>\n",
       "      <th>...</th>\n",
       "      <th>96</th>\n",
       "      <th>97</th>\n",
       "      <th>98</th>\n",
       "      <th>99</th>\n",
       "      <th>100</th>\n",
       "      <th>101</th>\n",
       "      <th>102</th>\n",
       "      <th>103</th>\n",
       "      <th>104</th>\n",
       "      <th>105</th>\n",
       "    </tr>\n",
       "  </thead>\n",
       "  <tbody>\n",
       "    <tr>\n",
       "      <th>0</th>\n",
       "      <td>3</td>\n",
       "      <td>1</td>\n",
       "      <td>2</td>\n",
       "      <td>2</td>\n",
       "      <td>3</td>\n",
       "      <td>3</td>\n",
       "      <td>3</td>\n",
       "      <td>0</td>\n",
       "      <td>2</td>\n",
       "      <td>0</td>\n",
       "      <td>...</td>\n",
       "      <td>2</td>\n",
       "      <td>2</td>\n",
       "      <td>1</td>\n",
       "      <td>0</td>\n",
       "      <td>1</td>\n",
       "      <td>3</td>\n",
       "      <td>3</td>\n",
       "      <td>1</td>\n",
       "      <td>1</td>\n",
       "      <td>3</td>\n",
       "    </tr>\n",
       "    <tr>\n",
       "      <th>1</th>\n",
       "      <td>3</td>\n",
       "      <td>1</td>\n",
       "      <td>1</td>\n",
       "      <td>2</td>\n",
       "      <td>3</td>\n",
       "      <td>1</td>\n",
       "      <td>3</td>\n",
       "      <td>0</td>\n",
       "      <td>2</td>\n",
       "      <td>0</td>\n",
       "      <td>...</td>\n",
       "      <td>2</td>\n",
       "      <td>2</td>\n",
       "      <td>1</td>\n",
       "      <td>2</td>\n",
       "      <td>1</td>\n",
       "      <td>3</td>\n",
       "      <td>3</td>\n",
       "      <td>1</td>\n",
       "      <td>1</td>\n",
       "      <td>3</td>\n",
       "    </tr>\n",
       "  </tbody>\n",
       "</table>\n",
       "<p>2 rows × 106 columns</p>\n",
       "</div>"
      ],
      "text/plain": [
       "   0  1  2  3  4  5  6  7  8  9  ...  96  97  98  99  100  101  102  103  104  \\\n",
       "0  3  1  2  2  3  3  3  0  2  0  ...   2   2   1   0    1    3    3    1    1   \n",
       "1  3  1  1  2  3  1  3  0  2  0  ...   2   2   1   2    1    3    3    1    1   \n",
       "\n",
       "   105  \n",
       "0    3  \n",
       "1    3  \n",
       "\n",
       "[2 rows x 106 columns]"
      ]
     },
     "execution_count": 29,
     "metadata": {},
     "output_type": "execute_result"
    }
   ],
   "source": [
    "from sklearn.metrics import confusion_matrix\n",
    "dmoji = pd.read_csv('../deepmoji_text_2.csv', index_col=0)\n",
    "dmoji.head()"
   ]
  },
  {
   "cell_type": "code",
   "execution_count": 36,
   "metadata": {},
   "outputs": [
    {
     "name": "stdout",
     "output_type": "stream",
     "text": [
      "0.6966991341991342\n",
      "0.7022184804442868\n",
      "0.6950905064908364\n"
     ]
    }
   ],
   "source": [
    "mcm = multilabel_confusion_matrix(dmoji.iloc[0].values, dmoji.iloc[1].values, labels=range(4))\n",
    "tn = mcm[:, 0, 0]\n",
    "tp = mcm[:,1, 1]\n",
    "fn = mcm[:,1, 0]\n",
    "fp = mcm[:,0, 1]\n",
    "rec = tp / (tp + fn)\n",
    "prec = tp / (tp+fp)\n",
    "f1 = 2*(rec*prec)/(rec+prec)\n",
    "print(np.mean(prec))\n",
    "print(np.mean(rec))\n",
    "print(np.mean(f1))"
   ]
  },
  {
   "cell_type": "code",
   "execution_count": 37,
   "metadata": {},
   "outputs": [
    {
     "data": {
      "text/plain": [
       "array([[[74,  6],\n",
       "        [11, 15]],\n",
       "\n",
       "       [[77,  8],\n",
       "        [ 5, 16]],\n",
       "\n",
       "       [[69,  9],\n",
       "        [ 4, 24]],\n",
       "\n",
       "       [[66,  9],\n",
       "        [12, 19]]])"
      ]
     },
     "execution_count": 37,
     "metadata": {},
     "output_type": "execute_result"
    }
   ],
   "source": [
    "mcm"
   ]
  },
  {
   "cell_type": "code",
   "execution_count": 38,
   "metadata": {},
   "outputs": [],
   "source": [
    "mcm = confusion_matrix(dmoji.iloc[0].values, dmoji.iloc[1].values, labels=range(4))"
   ]
  },
  {
   "cell_type": "code",
   "execution_count": 40,
   "metadata": {},
   "outputs": [],
   "source": [
    "import itertools\n",
    "def plot_confusion_matrix(cm, classes,\n",
    "                          normalize=False,\n",
    "                          title='Confusion matrix',\n",
    "                          cmap=plt.cm.Blues):\n",
    "    \"\"\"\n",
    "    This function prints and plots the confusion matrix.\n",
    "    Normalization can be applied by setting `normalize=True`.\n",
    "    \"\"\"\n",
    "    if normalize:\n",
    "        cm = cm.astype('float') / cm.sum(axis=1)[:, np.newaxis]\n",
    "        print(\"Normalized confusion matrix\")\n",
    "    else:\n",
    "        print('Confusion matrix, without normalization')\n",
    "\n",
    "    print(cm)\n",
    "\n",
    "    plt.imshow(cm, interpolation='nearest', cmap=cmap)\n",
    "    plt.title(title)\n",
    "    plt.colorbar()\n",
    "    tick_marks = np.arange(len(classes))\n",
    "    plt.xticks(tick_marks, classes, rotation=45)\n",
    "    plt.yticks(tick_marks, classes)\n",
    "\n",
    "    fmt = '.2f' if normalize else 'd'\n",
    "    thresh = cm.max() / 2.\n",
    "    for i, j in itertools.product(range(cm.shape[0]), range(cm.shape[1])):\n",
    "        plt.text(j, i, format(cm[i, j], fmt),\n",
    "                 horizontalalignment=\"center\",\n",
    "                 color=\"white\" if cm[i, j] > thresh else \"black\")\n",
    "\n",
    "    plt.ylabel('True label')\n",
    "    plt.xlabel('Predicted label')\n",
    "    plt.tight_layout()"
   ]
  },
  {
   "cell_type": "code",
   "execution_count": 72,
   "metadata": {},
   "outputs": [
    {
     "name": "stdout",
     "output_type": "stream",
     "text": [
      "Normalized confusion matrix\n",
      "[[0.58 0.04 0.08 0.31]\n",
      " [0.   0.76 0.19 0.05]\n",
      " [0.04 0.11 0.86 0.  ]\n",
      " [0.16 0.13 0.1  0.61]]\n"
     ]
    },
    {
     "data": {
      "image/png": "[encoded data removed]",
      "text/plain": [
       "<Figure size 432x288 with 2 Axes>"
      ]
     },
     "metadata": {
      "needs_background": "light"
     },
     "output_type": "display_data"
    }
   ],
   "source": [
    "plt.figure()\n",
    "plot_confusion_matrix(mcm, classes=[\"annoyed\", \"joke\", \"calm\", \"excited\"],\n",
    "                      normalize=True, title='Confusion matrix')\n",
    "plt.savefig('confusion_model_3.png')"
   ]
  }
 ],
 "metadata": {
  "kernelspec": {
   "display_name": "Python 3",
   "language": "python",
   "name": "python3"
  },
  "language_info": {
   "codemirror_mode": {
    "name": "ipython",
    "version": 3
   },
   "file_extension": ".py",
   "mimetype": "text/x-python",
   "name": "python",
   "nbconvert_exporter": "python",
   "pygments_lexer": "ipython3",
   "version": "3.6.8"
  },
  "toc": {
   "base_numbering": 1,
   "nav_menu": {},
   "number_sections": true,
   "sideBar": true,
   "skip_h1_title": false,
   "title_cell": "Table of Contents",
   "title_sidebar": "Contents",
   "toc_cell": false,
   "toc_position": {},
   "toc_section_display": true,
   "toc_window_display": false
  }
 },
 "nbformat": 4,
 "nbformat_minor": 2
}
